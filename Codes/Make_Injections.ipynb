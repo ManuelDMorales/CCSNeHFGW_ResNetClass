{
 "cells": [
  {
   "cell_type": "markdown",
   "id": "77325f51-7835-4bd4-862a-6188cb6a8af6",
   "metadata": {},
   "source": [
    "<font size=\"5.5\"><u><i>Make Injections</i></u></font>"
   ]
  },
  {
   "cell_type": "markdown",
   "id": "2877b0f6-17b3-4c08-acee-7d88d86a08c7",
   "metadata": {},
   "source": [
    "<font size=\"4\">Script to make injections: Multiple waveforms to noise strain data.</font>\n",
    "<br/>\n",
    "<font size=\"4\">Author: Manuel David Morales</font>"
   ]
  },
  {
   "cell_type": "markdown",
   "id": "4ce98a11-17d6-4f48-91d8-dace94be3a6d",
   "metadata": {},
   "source": [
    "## 1. Library imports"
   ]
  },
  {
   "cell_type": "code",
   "execution_count": 1,
   "id": "63950f2d-d241-4bc1-b513-b2f4f5fabc5a",
   "metadata": {},
   "outputs": [],
   "source": [
    "# Data analysis\n",
    "import numpy as np \n",
    "import pandas as pd\n",
    "\n",
    "# Visualization\n",
    "import matplotlib as mpl\n",
    "import matplotlib.pyplot as plt\n",
    "\n",
    "# Files/folders management\n",
    "import os, glob, sys, re\n",
    "\n",
    "# To read csv files\n",
    "import csv\n",
    "\n",
    "# Garbage collector\n",
    "import gc\n",
    "\n",
    "# Object serialization\n",
    "import pickle\n",
    "\n",
    "# Toolbox functions\n",
    "from Toolbox import PSD, SNR, SNR_PyCBC"
   ]
  },
  {
   "cell_type": "markdown",
   "id": "90067c96-e97c-44a5-b125-1722afb32950",
   "metadata": {},
   "source": [
    "## 2. Input parameters"
   ]
  },
  {
   "cell_type": "code",
   "execution_count": 2,
   "id": "52671715-725b-4a56-b56b-c570aaac80a8",
   "metadata": {},
   "outputs": [],
   "source": [
    "# Interferometer for noise data\n",
    "# ------------------------------------------------------------\n",
    "detector = \"H1\"   # Options: \"L1\", \"H1\", \"V1\"\n",
    "# ------------------------------------------------------------\n",
    "\n",
    "# Class of waveforms to be injected\n",
    "# ------------------------------------------------------------\n",
    "waveform_class = \"2\"   # Options: \"1\", \"2\", \"3\"\n",
    "# ------------------------------------------------------------\n",
    "\n",
    "# Time between injections (in seconds)\n",
    "# ------------------------------------------------------------\n",
    "dt_inj = 8   # Options: 8, 12, 16, 32, 64\n",
    "# ------------------------------------------------------------\n",
    "\n",
    "# Jitter_lim: This value defines a fluctuation range, in which each\n",
    "# injection will be located on a random sample in the interval\n",
    "# [inj_time - jitter_lim, inj_time + jitter_lim] (in seconds)\n",
    "# ------------------------------------------------------------\n",
    "jitter_lim = 0.01   # Options: 0.3, 0.1, 0.0, 1.2, etc.\n",
    "# ------------------------------------------------------------\n",
    "\n",
    "# Time segment for SNR calculation around injection (in seconds)\n",
    "# ----------------------------------------------------------------\n",
    "t_segment = 4   #  [ t_inj-t_segment/2 , t_inj+t_segment/2 ] \n",
    "# ----------------------------------------------------------------\n",
    "\n",
    "# ------> Input parameters for brief exploration and debugging\n",
    "\n",
    "# Work on a reduced noise segment?\n",
    "# ----------------------------------------------------------------\n",
    "reduce_segment = 1   #  1: yes | 0: no\n",
    "# ----------------------------------------------------------------\n",
    "\n",
    "# Length of the reduced noise segment (in seconds)\n",
    "# ----------------------------------------------------------------\n",
    "reduced_time_n = 120.0                      \n",
    "# ----------------------------------------------------------------"
   ]
  },
  {
   "cell_type": "markdown",
   "id": "590f9356-1d8d-4e40-a616-6022a98eb16e",
   "metadata": {},
   "source": [
    "## 3. Read noise files"
   ]
  },
  {
   "cell_type": "code",
   "execution_count": 3,
   "id": "5baad299-29a0-42ad-aaa2-e981e275fcc8",
   "metadata": {},
   "outputs": [],
   "source": [
    "# ------> Specify folder locations\n",
    "\n",
    "rawdata_dir = '/home/manuel/Research Projects/GW Data analysis/GitHub/CCSNeHFGW_ResNetClass/Codes/'\n",
    "\n",
    "# ------> Initialize lists\n",
    "\n",
    "time_noise = []\n",
    "strain_noise = []\n",
    "F_noi = []\n",
    "\n",
    "# ------> Scan noise files\n",
    "\n",
    "os.chdir(rawdata_dir)\n",
    "\n",
    "for file in glob.glob(\"strain_noise_\" + detector + \"*\"):\n",
    "    F_noi.append(file)"
   ]
  },
  {
   "cell_type": "code",
   "execution_count": 4,
   "id": "62a0b8e2-a126-4d09-85c8-520cb1b82c1c",
   "metadata": {},
   "outputs": [
    {
     "name": "stdout",
     "output_type": "stream",
     "text": [
      "Available noise segments (in GPS start time)\n",
      "GPS = 1256783872   |  Input option : 0\n",
      "GPS = 1257050112   |  Input option : 1\n",
      "\n"
     ]
    },
    {
     "name": "stdin",
     "output_type": "stream",
     "text": [
      "======> Enter your option: 1\n"
     ]
    },
    {
     "name": "stdout",
     "output_type": "stream",
     "text": [
      "\n",
      "***** READING FILE strain_noise_H1_1257050112.txt  *****\n",
      "Data columns: time, strain\n",
      "Processed 16777217 lines\n"
     ]
    }
   ],
   "source": [
    "# ------> Load noise data \n",
    "\n",
    "result = re.search( detector + \"_\", F_noi[0])\n",
    "ind_ini_n = result.span()[1]\n",
    "result = re.search( \".txt\", F_noi[0])\n",
    "ind_end_n = result.span()[0]\n",
    "\n",
    "print(\"Available noise segments (in GPS start time)\")\n",
    "for j in range(len(F_noi)):\n",
    "    print(\"GPS =\", F_noi[j][ind_ini_n:ind_end_n], \"  |  Input option :\", j)\n",
    "print(\"\")\n",
    "\n",
    "nfile_i = input(\"======> Enter your option:\")\n",
    "nfile_i = int(nfile_i)\n",
    "print(\"\")\n",
    "\n",
    "print(\"***** READING FILE\", F_noi[nfile_i], \" *****\")\n",
    "\n",
    "with open(F_noi[nfile_i]) as csv_file:\n",
    "    csv_reader = csv.reader(csv_file, delimiter=',')\n",
    "    line_count = 0\n",
    "    for row in csv_reader:\n",
    "        if line_count == 0:\n",
    "            print(f'Data columns: {\", \".join(row)}')\n",
    "            line_count += 1\n",
    "        else:\n",
    "            time_noise.append(row[0])\n",
    "            strain_noise.append(row[1])\n",
    "            #print(f'\\t{row[0]} works in the {row[1]}.')\n",
    "            line_count += 1\n",
    "    print(f'Processed {line_count} lines')"
   ]
  },
  {
   "cell_type": "code",
   "execution_count": 5,
   "id": "14773065-5f99-4346-9a30-0120bc9fe87c",
   "metadata": {},
   "outputs": [
    {
     "data": {
      "text/plain": [
       "0"
      ]
     },
     "execution_count": 5,
     "metadata": {},
     "output_type": "execute_result"
    }
   ],
   "source": [
    "# ------> Convert lists to numpy arrays, clear memory from lists\n",
    "\n",
    "time_n = np.array(time_noise, dtype='float64')\n",
    "del(time_noise)\n",
    "gc.collect()\n",
    "\n",
    "strain_n = np.array(strain_noise, dtype='float64')\n",
    "del(strain_noise)\n",
    "gc.collect()"
   ]
  },
  {
   "cell_type": "markdown",
   "id": "85239f45-60fc-40d3-b11f-d320d3760d7f",
   "metadata": {},
   "source": [
    "## 4. Injections preparation"
   ]
  },
  {
   "cell_type": "code",
   "execution_count": 6,
   "id": "aae3fb26-f6aa-4f7b-9fd4-b9eae6f91c58",
   "metadata": {},
   "outputs": [
    {
     "name": "stdout",
     "output_type": "stream",
     "text": [
      "**** length of time_n (in seconds): 120.0\n",
      "**** length of time_n (in sample units): 491520\n",
      "**** length of strain_n (in sample units): 491520\n"
     ]
    }
   ],
   "source": [
    "# Compute sampling time\n",
    "\n",
    "ts = time_n[1] - time_n[0]\n",
    "\n",
    "# -------> JUST FOR DEBUGGING THE IMPLEMENTATION\n",
    "#          Select a portion of the noise strain data\n",
    "\n",
    "if reduce_segment:\n",
    "    \n",
    "    reduced_length = int(reduced_time_n/ts)     # Reduced noise arrays' length (in sample units)\n",
    "    \n",
    "    time_n = np.delete(time_n,np.arange(reduced_length, len(time_n), 1, dtype=int))\n",
    "    strain_n = np.delete(strain_n,np.arange(reduced_length, len(strain_n), 1, dtype=int))\n",
    "    \n",
    "    #print(\"time_n vector:\", time_n)\n",
    "    print(\"**** length of time_n (in seconds):\", len(time_n)*ts)\n",
    "    print(\"**** length of time_n (in sample units):\", len(time_n))\n",
    "    print(\"**** length of strain_n (in sample units):\", len(strain_n))"
   ]
  },
  {
   "cell_type": "code",
   "execution_count": 7,
   "id": "1812ea25-f89b-4487-881b-532bd2009bfd",
   "metadata": {},
   "outputs": [
    {
     "name": "stdout",
     "output_type": "stream",
     "text": [
      "Sampling frequency (in Hz):  4096.0\n",
      "First noise sample to be injected with a waveform (without jitter):  32768\n",
      "Its correspondent strain value: -1.4795957120286136e-20\n",
      "Number of injections to be performed:  14\n"
     ]
    }
   ],
   "source": [
    "# ------> Backup original strain arrays\n",
    "strain_n_new = np.copy(strain_n) # ---> Deep copy in numpy, to unbind arrays\n",
    "\n",
    "# ------> Print useful input information\n",
    "\n",
    "# Sampling frequency\n",
    "fs =1/ts\n",
    "print(\"Sampling frequency (in Hz): \", fs)\n",
    "\n",
    "# Index of the strain noise sample (point) in which the first injection will be performed\n",
    "N_lapse = int(dt_inj/(1./fs))\n",
    "print(\"First noise sample to be injected with a waveform (without jitter): \", N_lapse)\n",
    "print(\"Its correspondent strain value:\", strain_n_new[N_lapse])\n",
    "\n",
    "# Number of injections to be performed in the strain data\n",
    "N_inj = int(len(strain_n_new) / N_lapse) - 1 \n",
    "# Remark: -1 value in N_inj is just to avoid incomplete injection at the right edge.  \n",
    "print(\"Number of injections to be performed: \", N_inj)"
   ]
  },
  {
   "cell_type": "code",
   "execution_count": 8,
   "id": "abf5e3ac-6ff1-478b-8c7c-ed39e684f997",
   "metadata": {},
   "outputs": [
    {
     "name": "stdout",
     "output_type": "stream",
     "text": [
      "waveforms dictionary loaded successfully\n",
      "waveforms_log dictionary loaded successfully\n"
     ]
    }
   ],
   "source": [
    "# ------> Load waveforms dictionaries\n",
    "\n",
    "# Waveforms strain\n",
    "with open('../Waveforms_mod/Phen/waveforms.pkl', 'rb') as fp:\n",
    "    waveforms = pickle.load(fp)\n",
    "    print('waveforms dictionary loaded successfully')\n",
    "\n",
    "# Waveforms log data\n",
    "with open('../Waveforms_mod/Phen/waveforms_log.pkl', 'rb') as fp:\n",
    "    waveforms_log = pickle.load(fp)\n",
    "    print('waveforms_log dictionary loaded successfully')\n",
    "    \n",
    "# Remark: How to access waveforms and log data\n",
    "# waveforms[\"class c\"][n]  ---> to extract n-th waveform of class c\n",
    "# waveforms_log[\"class c\"][n]  ---> to extract log data of n-th waveform of class c"
   ]
  },
  {
   "cell_type": "code",
   "execution_count": 9,
   "id": "cf061a4c-dd21-4fd7-ac8d-b938e6d31f06",
   "metadata": {},
   "outputs": [
    {
     "name": "stdout",
     "output_type": "stream",
     "text": [
      "200\n",
      "200\n"
     ]
    }
   ],
   "source": [
    "# Checks\n",
    "print(len(waveforms[\"class 1\"]))\n",
    "print(len(waveforms[\"class 2\"]))"
   ]
  },
  {
   "cell_type": "code",
   "execution_count": 10,
   "id": "ceba3093-1d77-4e50-a31d-8f1908b24305",
   "metadata": {},
   "outputs": [
    {
     "name": "stdout",
     "output_type": "stream",
     "text": [
      "Choosen waveforms:  [ 83  40 182  31  91  39  90 153 179   6 123 173  12  49]\n"
     ]
    }
   ],
   "source": [
    "# ------> Select random waveforms for injections\n",
    "\n",
    "# Predictable random numbers\n",
    "np.random.seed(23)\n",
    "\n",
    "# 42 for noise gps_start 1257050112\n",
    "# 23 for noise gps_start 1256783872\n",
    "\n",
    "# Select N_inj random injections for the selected class\n",
    "inj_ind = np.random.choice(len(waveforms[\"class \" + waveform_class]), N_inj)\n",
    "\n",
    "# Print indexes of selected waveform for injection\n",
    "print(\"Choosen waveforms: \", inj_ind)"
   ]
  },
  {
   "cell_type": "markdown",
   "id": "ffcbf8b6-c039-4b9a-9250-0412b52dce9f",
   "metadata": {
    "tags": []
   },
   "source": [
    "## 5. Injections application"
   ]
  },
  {
   "cell_type": "code",
   "execution_count": 11,
   "id": "f3fc6e03-864f-43ce-8669-7e58e97cf1c8",
   "metadata": {
    "tags": []
   },
   "outputs": [
    {
     "name": "stdout",
     "output_type": "stream",
     "text": [
      "Injection No. 0\n",
      "----------------------\n",
      "Time injection, without jitter (in seconds): 8.0\n",
      "Current jitter (in seconds): 0.00634765625\n",
      "Time injection, with jitter (in seconds): 8.00634765625\n",
      "\n",
      "G-mode slope = 1514.0\n",
      "Waveform duration = 0.848388671875\n",
      "Injection SNR value (PyCBC):  41.768659368745986\n",
      "****************************************************************\n",
      "\n",
      "Injection No. 1\n",
      "----------------------\n",
      "Time injection, without jitter (in seconds): 16.0\n",
      "Current jitter (in seconds): 0.008544921875\n",
      "Time injection, with jitter (in seconds): 16.008544921875\n",
      "\n",
      "G-mode slope = 1501.0\n",
      "Waveform duration = 0.846923828125\n",
      "Injection SNR value (PyCBC):  39.522166613566334\n",
      "****************************************************************\n",
      "\n",
      "Injection No. 2\n",
      "----------------------\n",
      "Time injection, without jitter (in seconds): 24.0\n",
      "Current jitter (in seconds): 0.007080078125\n",
      "Time injection, with jitter (in seconds): 24.007080078125\n",
      "\n",
      "G-mode slope = 1555.0\n",
      "Waveform duration = 0.86767578125\n",
      "Injection SNR value (PyCBC):  47.393145502740154\n",
      "****************************************************************\n",
      "\n",
      "Injection No. 3\n",
      "----------------------\n",
      "Time injection, without jitter (in seconds): 32.0\n",
      "Current jitter (in seconds): 0.005859375\n",
      "Time injection, with jitter (in seconds): 32.005859375\n",
      "\n",
      "G-mode slope = 1521.0\n",
      "Waveform duration = 0.844482421875\n",
      "Injection SNR value (PyCBC):  43.42765833425413\n",
      "****************************************************************\n",
      "\n",
      "Injection No. 4\n",
      "----------------------\n",
      "Time injection, without jitter (in seconds): 40.0\n",
      "Current jitter (in seconds): -0.0068359375\n",
      "Time injection, with jitter (in seconds): 39.9931640625\n",
      "\n",
      "G-mode slope = 1530.0\n",
      "Waveform duration = 0.846435546875\n",
      "Injection SNR value (PyCBC):  43.2169857618964\n",
      "****************************************************************\n",
      "\n",
      "Injection No. 5\n",
      "----------------------\n",
      "Time injection, without jitter (in seconds): 48.0\n",
      "Current jitter (in seconds): -0.004638671875\n",
      "Time injection, with jitter (in seconds): 47.995361328125\n",
      "\n",
      "G-mode slope = 1524.0\n",
      "Waveform duration = 0.846923828125\n",
      "Injection SNR value (PyCBC):  39.04521749132747\n",
      "****************************************************************\n",
      "\n",
      "Injection No. 6\n",
      "----------------------\n",
      "Time injection, without jitter (in seconds): 56.0\n",
      "Current jitter (in seconds): 0.001953125\n",
      "Time injection, with jitter (in seconds): 56.001953125\n",
      "\n",
      "G-mode slope = 1506.0\n",
      "Waveform duration = 0.8544921875\n",
      "Injection SNR value (PyCBC):  41.97339442034522\n",
      "****************************************************************\n",
      "\n",
      "Injection No. 7\n",
      "----------------------\n",
      "Time injection, without jitter (in seconds): 64.0\n",
      "Current jitter (in seconds): 0.000244140625\n",
      "Time injection, with jitter (in seconds): 64.000244140625\n",
      "\n",
      "G-mode slope = 1596.0\n",
      "Waveform duration = 0.898193359375\n",
      "Injection SNR value (PyCBC):  43.05750699263813\n",
      "****************************************************************\n",
      "\n",
      "Injection No. 8\n",
      "----------------------\n",
      "Time injection, without jitter (in seconds): 72.0\n",
      "Current jitter (in seconds): 0.009521484375\n",
      "Time injection, with jitter (in seconds): 72.009521484375\n",
      "\n",
      "G-mode slope = 1546.0\n",
      "Waveform duration = 0.878662109375\n",
      "Injection SNR value (PyCBC):  43.60768234041168\n",
      "****************************************************************\n",
      "\n",
      "Injection No. 9\n",
      "----------------------\n",
      "Time injection, without jitter (in seconds): 80.0\n",
      "Current jitter (in seconds): 0.00537109375\n",
      "Time injection, with jitter (in seconds): 80.00537109375\n",
      "\n",
      "G-mode slope = 1452.0\n",
      "Waveform duration = 0.810791015625\n",
      "Injection SNR value (PyCBC):  46.00530053598593\n",
      "****************************************************************\n",
      "\n",
      "Injection No. 10\n",
      "----------------------\n",
      "Time injection, without jitter (in seconds): 88.0\n",
      "Current jitter (in seconds): 0.004150390625\n",
      "Time injection, with jitter (in seconds): 88.004150390625\n",
      "\n",
      "G-mode slope = 1493.0\n",
      "Waveform duration = 0.8388671875\n",
      "Injection SNR value (PyCBC):  47.719715034845656\n",
      "****************************************************************\n",
      "\n",
      "Injection No. 11\n",
      "----------------------\n",
      "Time injection, without jitter (in seconds): 96.0\n",
      "Current jitter (in seconds): -0.005126953125\n",
      "Time injection, with jitter (in seconds): 95.994873046875\n",
      "\n",
      "G-mode slope = 1499.0\n",
      "Waveform duration = 0.8388671875\n",
      "Injection SNR value (PyCBC):  43.606921503211375\n",
      "****************************************************************\n",
      "\n",
      "Injection No. 12\n",
      "----------------------\n",
      "Time injection, without jitter (in seconds): 104.0\n",
      "Current jitter (in seconds): -0.001708984375\n",
      "Time injection, with jitter (in seconds): 103.998291015625\n",
      "\n",
      "G-mode slope = 1562.0\n",
      "Waveform duration = 0.890625\n",
      "Injection SNR value (PyCBC):  42.559533672643035\n",
      "****************************************************************\n",
      "\n",
      "Injection No. 13\n",
      "----------------------\n",
      "Time injection, without jitter (in seconds): 112.0\n",
      "Current jitter (in seconds): 0.004638671875\n",
      "Time injection, with jitter (in seconds): 112.004638671875\n",
      "\n",
      "G-mode slope = 1487.0\n",
      "Waveform duration = 0.825439453125\n",
      "Injection SNR value (PyCBC):  41.589629763661655\n",
      "****************************************************************\n",
      "\n"
     ]
    }
   ],
   "source": [
    "doplots_snr = 0 # Do plots in SNR calculation (checks)\n",
    "\n",
    "# ------> Create array to locate injections by indexes\n",
    "\n",
    "locate_inj = np.arange(1,N_inj+1)\n",
    "locate_inj = N_lapse*locate_inj\n",
    "#print(locate_inj[-1] + N_lapse)\n",
    "#print(len(strain_n_new))\n",
    "\n",
    "# ------> Define length of local noise segment for SNR calculation\n",
    "\n",
    "epsilon = int(int(t_segment/ts)*0.5)\n",
    "#print(\"Epsilon = \", epsilon)\n",
    "\n",
    "# ------> Initialize list for log file\n",
    "\n",
    "log_data = []\n",
    "\n",
    "# ------> Make injections\n",
    "\n",
    "# FIRST LOOP, j index: injection count variable\n",
    "# -----------------------------------------------\n",
    "\n",
    "for j in range(N_inj): # Apply N_inj injections\n",
    "#for j in range(10): # Apply only a few injections\n",
    "        \n",
    "    print(\"Injection No.\", j)\n",
    "    print(\"----------------------\")\n",
    "    \n",
    "    # ------> Load random waveform indexed by inj_ind array\n",
    "    \n",
    "    strain_wf = np.transpose(waveforms[\"class \" + waveform_class][inj_ind[j]])[1]\n",
    "    \n",
    "    # ------> Load waveform log data\n",
    "    \n",
    "    slope = waveforms_log[\"class \" + waveform_class][inj_ind[j]][0]\n",
    "    f0 = waveforms_log[\"class \" + waveform_class][inj_ind[j]][1]\n",
    "    f1 = waveforms_log[\"class \" + waveform_class][inj_ind[j]][2]\n",
    "    wf_duration = waveforms_log[\"class \" + waveform_class][inj_ind[j]][3]\n",
    "    \n",
    "    slope = float(slope)\n",
    "    f0 = float(f0); f1 = float(f1)\n",
    "    wf_duration = float(wf_duration)\n",
    "    \n",
    "    # ------> Injection location without jitter\n",
    "    \n",
    "    ind_noise = locate_inj[j] # Locate first point of the injection\n",
    "    # print(\"Injection first point in the strain noise data (without jitter):\", ind_noise)\n",
    "    \n",
    "    time_inj = (1./fs)*ind_noise\n",
    "    print(\"Time injection, without jitter (in seconds):\", time_inj)\n",
    "    \n",
    "    # ------> Jitter variable procedure\n",
    "    \n",
    "    # Define the jitter range in terms of sample units\n",
    "    njitter_range_min = ind_noise + int(-jitter_lim/(1./fs))\n",
    "    njitter_range_max = ind_noise + int(jitter_lim/(1./fs))\n",
    "    njitter_range = np.arange(njitter_range_min, njitter_range_max + 1, 1, dtype=int)\n",
    "\n",
    "    # Compute actual location of the injection in sample units\n",
    "    njitter = np.random.choice(njitter_range, 1)[0]\n",
    "    \n",
    "    # Some checks\n",
    "    #print(\"Jitter variable range (in sample units):\", njitter_range)\n",
    "    #print(\"Modified injection location (in sample units):\", njitter)\n",
    "    current_jitter = (njitter-ind_noise)*(1/fs)\n",
    "    print(\"Current jitter (in seconds):\", current_jitter)\n",
    "    \n",
    "    time_inj_jit = njitter*(1/fs)\n",
    "    print(\"Time injection, with jitter (in seconds):\", time_inj_jit)\n",
    "\n",
    "    # ------> Update index injection locations\n",
    "    \n",
    "    locate_inj[j] = njitter \n",
    "    \n",
    "    \n",
    "    # SECOND LOOP, k index: Waveform's sample count variable\n",
    "    # --------------------------------------------------------\n",
    "    \n",
    "    for k in range(len(strain_wf)): # Injection along waveform's ALL points\n",
    "    #for k in range(3): # Injection along waveform's first three points\n",
    "    #for k in reversed(range(len(strain_wf)-3,len(strain_wf),1)): # Injection along waveform's last three points\n",
    "        \n",
    "        #print(\"\")\n",
    "        #print(\"+++++ Point\", k, \" of the waveform\")\n",
    "        \n",
    "        strain_waveform = strain_wf[k] \n",
    "        #print(\"------> strain waveform\", strain_waveform)\n",
    "        \n",
    "        strain_noise = strain_n_new[locate_inj[j]+k]\n",
    "        #print(\"------> strain BEFORE injection\", strain_noise)\n",
    "    \n",
    "        # PERFORM THE INJECTION (k point in the waveform, locate_inj[j] + k point in the noise)\n",
    "        strain_with_inj = strain_noise + strain_waveform\n",
    "        strain_n_new[locate_inj[j]+k] = strain_with_inj\n",
    "    \n",
    "        #print(\"------> strain AFTER injection\", strain_n_new[ind_noise+k])\n",
    "        #print(\"------> strain AFTER injection in copy\", strain_n[ind_noise+k])\n",
    "    \n",
    "    print(\"\")\n",
    "    #print(\"+++++ SNR calculation +++++\")\n",
    "    \n",
    "    # ------> Define time segment for SNR calculation around the injection\n",
    "    \n",
    "    Llim_local_noise = ind_noise - epsilon\n",
    "    Rlim_local_noise = ind_noise + len(strain_wf) + epsilon\n",
    "    \n",
    "    #print(\"Left limit local noise = \", Llim_local_noise)\n",
    "    #print(\"Right limit local noise = \", Rlim_local_noise)\n",
    "    \n",
    "    #print(\"Strain noise length (in sample units):\", len(strain_n_new))\n",
    "    \n",
    "    # Define strain noise segment\n",
    "    strain_segment = strain_n_new[Llim_local_noise:Rlim_local_noise+1]\n",
    "    \n",
    "    #print(\"Strain noise segment length (in sample units):\", len(strain_segment))\n",
    "    \n",
    "    # ------> Compute PSD\n",
    "    \n",
    "    # Size of Welch's segments\n",
    "    nperseg = int(4*fs)\n",
    "    \n",
    "    # Double-sided power spectral density of raw strain data\n",
    "    fpsd, psd = PSD(strain_segment,fs,nperseg,2)\n",
    "    \n",
    "    # Sort arrays, increasing frequencies\n",
    "    ind = np.argsort(fpsd)\n",
    "    fpsd = np.sort(fpsd)\n",
    "    psd = psd[ind]\n",
    "    \n",
    "    # ------> Compute SNR values (with ScyPy)\n",
    "    \n",
    "    #SNR_value = SNR(strain_wf,time_wf,fpsd,psd,doplots_snr)\n",
    " \n",
    "    #print(\"Injection SNR value (SciPy): \", SNR_value)\n",
    "    \n",
    "    # ------> Compute SNR values (with PyCBC)\n",
    "    \n",
    "    SNR_value = SNR_PyCBC(strain_wf, strain_segment, fs, doplots_snr)\n",
    "    \n",
    "    if np.isnan(SNR_value):\n",
    "            \n",
    "        print(\"!!!!!!!!!!!!!!!!! STOPPING INJECTION PROCEDURE, SNR VALUE IS \\\"NAN\\\" !!!!!!!!!!!!!!!!! \")\n",
    "        break\n",
    "    \n",
    "    # ------> Print relevant log information\n",
    "    \n",
    "    print(\"G-mode slope =\", slope)\n",
    "    #print(\"G-mode start frequency , f0 = \", f0)\n",
    "    #print(\"G-mode end frequency , f1 = \", f1)\n",
    "    print(\"Waveform duration =\", wf_duration)\n",
    "    print(\"Injection SNR value (PyCBC): \", SNR_value)\n",
    "        \n",
    "    # ------> Save information in log_data list\n",
    "    # Injection time, jitter, SNR value, waveform duration\n",
    "    log_data.append([time_inj_jit, current_jitter, SNR_value, slope, f0, f1, wf_duration])\n",
    "    \n",
    "    print(\"****************************************************************\")\n",
    "    print(\"\")        "
   ]
  },
  {
   "cell_type": "markdown",
   "id": "57829626-a8f3-4555-83af-8bce33b4121b",
   "metadata": {
    "tags": []
   },
   "source": [
    "## 6. Check injections"
   ]
  },
  {
   "cell_type": "code",
   "execution_count": 12,
   "id": "561192c5-101c-4e0e-bdfc-44c3a11beaae",
   "metadata": {},
   "outputs": [
    {
     "data": {
      "image/png": "[encoded data removed]",
      "text/plain": [
       "<Figure size 720x504 with 1 Axes>"
      ]
     },
     "metadata": {
      "needs_background": "light"
     },
     "output_type": "display_data"
    },
    {
     "data": {
      "text/plain": [
       "3614"
      ]
     },
     "execution_count": 12,
     "metadata": {},
     "output_type": "execute_result"
    },
    {
     "data": {
      "text/plain": [
       "<Figure size 432x288 with 0 Axes>"
      ]
     },
     "metadata": {},
     "output_type": "display_data"
    }
   ],
   "source": [
    "#%%script false --no-raise-error # WARNING: DEACTIVATED CELL\n",
    "\n",
    "# ------> Check plot for strain before/after injection\n",
    "\n",
    "# Select an injection\n",
    "inj_point_1 = locate_inj[0]\n",
    "inj_point_2 = locate_inj[-1]\n",
    "#inj_point_2 = locate_inj[5]\n",
    "min_index = inj_point_1-100\n",
    "max_index = inj_point_2+len(strain_wf)+5000\n",
    "\n",
    "# Subset of points\n",
    "time_n_subset = time_n[min_index:max_index]\n",
    "strain_n_subset = strain_n[min_index:max_index]\n",
    "strain_n_new_subset = strain_n_new[min_index:max_index]\n",
    "\n",
    "plt.figure(1, figsize=(10,7))\n",
    "#plt.plot(time_n_subset,strain_n_subset, label='Before injection')\n",
    "#plt.plot(time_n_subset,strain_n_new_subset, label='After injection')\n",
    "plt.plot(time_n_subset,strain_n_subset-strain_n_new_subset, label='difference')\n",
    "#plt.yscale('log')\n",
    "plt.title(\"Strain difference before/after injection\", fontsize=18)\n",
    "plt.xlabel('post-bounce time [ms]', fontsize=16)\n",
    "plt.ylabel('Diff h(t)', fontsize=16)\n",
    "plt.grid()\n",
    "#plt.legend()\n",
    "plt.tight_layout()\n",
    "plt.show()\n",
    "plt.figure(1).clear()\n",
    "gc.collect()"
   ]
  },
  {
   "cell_type": "markdown",
   "id": "03add174-03e8-4ad7-9556-b57e6224ce61",
   "metadata": {},
   "source": [
    "## 7. Save data"
   ]
  },
  {
   "cell_type": "code",
   "execution_count": 13,
   "id": "847add21-51cd-4696-88c7-267ad00692c0",
   "metadata": {},
   "outputs": [],
   "source": [
    "# ------> Log files, information of injections\n",
    "\n",
    "# Pre-processed data folder\n",
    "save_dir = '/home/manuel/Research Projects/GW Data analysis/GitHub/CCSNeHFGW_ResNetClass/Codes/Preprocessed_Data/'\n",
    "\n",
    "# Create df_log dataframe\n",
    "df_log = pd.DataFrame(log_data, columns=['Injection time [s]', 'jitter (seconds)', 'Waveform SNR', 'G-mode slope', 'Frequency f0 [Hz]', 'Frequency f1 [Hz]', 'Waveform duration [s]'])\n",
    "\n",
    "# Export df_log dataframe to a csv file\n",
    "df_log.to_csv(save_dir + \"log_\" + detector + \"_\" + F_noi[nfile_i][ind_ini_n:ind_end_n] + \"_wfclass\" + waveform_class +  '.dat', index=False)\n",
    "\n",
    "# ------> Strain data with injections\n",
    "\n",
    "# Create df_strain dataset\n",
    "df_strain = pd.DataFrame({\"time\" : time_n, \"strain\" : strain_n_new})\n",
    "\n",
    "# Export df_strain dataframe to a csv file\n",
    "df_strain.to_csv(save_dir + \"strain_\" + detector + \"_\" + F_noi[nfile_i][ind_ini_n:ind_end_n] + \"_injected_\" + \"wfclass\" + waveform_class + \".txt\", index=False)"
   ]
  },
  {
   "cell_type": "code",
   "execution_count": null,
   "id": "77a01377-b6f3-47de-9acc-80758baf5057",
   "metadata": {},
   "outputs": [],
   "source": []
  }
 ],
 "metadata": {
  "kernelspec": {
   "display_name": "Python 3 (ipykernel)",
   "language": "python",
   "name": "python3"
  },
  "language_info": {
   "codemirror_mode": {
    "name": "ipython",
    "version": 3
   },
   "file_extension": ".py",
   "mimetype": "text/x-python",
   "name": "python",
   "nbconvert_exporter": "python",
   "pygments_lexer": "ipython3",
   "version": "3.9.7"
  }
 },
 "nbformat": 4,
 "nbformat_minor": 5
}
