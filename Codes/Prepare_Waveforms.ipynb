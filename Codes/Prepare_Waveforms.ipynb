{
 "cells": [
  {
   "cell_type": "markdown",
   "id": "4b98894b-d207-4f08-afc3-9917aed98522",
   "metadata": {},
   "source": [
    "<font size=\"5.5\"><u><i>Prepare Waveforms</i></u></font>"
   ]
  },
  {
   "cell_type": "markdown",
   "id": "a3d86d7f-211e-4bd2-a981-2343b0117b3b",
   "metadata": {},
   "source": [
    "<font size=\"4\">Script to prepare multiple waveforms to the analysis.</font>\n",
    "<br/>\n",
    "<font size=\"4\">Author: Manuel David Morales</font>"
   ]
  },
  {
   "cell_type": "markdown",
   "id": "905fd581-2ce2-490f-99ad-05bb25989928",
   "metadata": {},
   "source": [
    "## 1. Library imports"
   ]
  },
  {
   "cell_type": "code",
   "execution_count": 1,
   "id": "03749fd8-a1f6-4352-b03c-296406fb42ee",
   "metadata": {},
   "outputs": [],
   "source": [
    "# Data analysis\n",
    "import numpy as np \n",
    "import pandas as pd\n",
    "\n",
    "# Visualization\n",
    "import matplotlib as mpl\n",
    "import matplotlib.pyplot as plt\n",
    "\n",
    "# Files/folders management\n",
    "import os, glob, sys, re\n",
    "\n",
    "# Scientific computing\n",
    "from scipy import signal\n",
    "\n",
    "# Garbage collector\n",
    "import gc\n",
    "\n",
    "# Object serialization\n",
    "import pickle\n",
    "\n",
    "# Toolbox functions\n",
    "from Toolbox import extract_WFinfo, resample_gw, SNR, SNR_PyCBC, WaveletTF_transform, Morlet_wavelet"
   ]
  },
  {
   "cell_type": "markdown",
   "id": "aa0805d9-4144-463b-bf09-b3ee180dcdb1",
   "metadata": {
    "tags": []
   },
   "source": [
    "## 2. Input parameters"
   ]
  },
  {
   "cell_type": "code",
   "execution_count": 2,
   "id": "1554f0b6-c2b0-40ab-81a5-d736ecf7ff59",
   "metadata": {},
   "outputs": [],
   "source": [
    "# Rescaling factor for all waveforms\n",
    "# -----------------------------------------------------------\n",
    "Resc_factor =  4.0e-21    # Options: 8.0e-22 (for L1, H1)\n",
    "                          #          4.0e-21 (for V1)\n",
    "# -----------------------------------------------------------\n",
    "# Remark: This option was tuned by monitorying\n",
    "# SNR distributions on Populations_Explorer script"
   ]
  },
  {
   "cell_type": "markdown",
   "id": "208fc10e-8e7c-4ee2-8f76-6e8826ecdb12",
   "metadata": {},
   "source": [
    "## 3. Read files"
   ]
  },
  {
   "cell_type": "code",
   "execution_count": 3,
   "id": "9917528b-6974-40d9-9ab2-c0a4f9cfbae5",
   "metadata": {},
   "outputs": [
    {
     "name": "stdout",
     "output_type": "stream",
     "text": [
      "No. of class 1 waveforms: 200\n",
      "No. of class 2 waveforms: 200\n",
      "No. of class 3 waveforms: 200\n"
     ]
    }
   ],
   "source": [
    "# ------> Specify folders/files\n",
    "\n",
    "wf_dir = \"/home/manuel/Research Projects/GW Data analysis/GitHub/CCSNeHFGW_ResNetClass/Waveforms_orig/\"\n",
    "\n",
    "# Class 1 waveforms\n",
    "wf_dir_c1 = wf_dir + \"/Phen/class1/\"\n",
    "wf_files_c1 = sorted(glob.glob(wf_dir_c1 + '*.csv'))\n",
    "print(\"No. of class 1 waveforms:\", len(wf_files_c1))\n",
    "#display(wf_files_c1)\n",
    "\n",
    "# Class 2 waveforms\n",
    "wf_dir_c2 = wf_dir + \"Phen/class2/\"\n",
    "wf_files_c2 = sorted(glob.glob(wf_dir_c2 + '*.csv'))\n",
    "print(\"No. of class 2 waveforms:\", len(wf_files_c2))\n",
    "#display(wf_files_c2)\n",
    "\n",
    "# Class 3 waveforms\n",
    "wf_dir_c3 = wf_dir + \"Phen/class3/\"\n",
    "wf_files_c3 = sorted(glob.glob(wf_dir_c3 + '*.csv'))\n",
    "print(\"No. of class 3 waveforms:\", len(wf_files_c3))\n",
    "#display(wf_files_c3)"
   ]
  },
  {
   "cell_type": "code",
   "execution_count": 4,
   "id": "ddea0ae1-8c9e-482e-861d-e34311f4ef80",
   "metadata": {
    "tags": []
   },
   "outputs": [
    {
     "name": "stdout",
     "output_type": "stream",
     "text": [
      "Reading waveforms of class 1\n",
      "Reading waveforms of class 2\n",
      "Reading waveforms of class 3\n"
     ]
    }
   ],
   "source": [
    "# ------> Read all waveform files\n",
    "\n",
    "# Sort filenames per waveform class\n",
    "wf_files = [wf_files_c1, wf_files_c2, wf_files_c3]\n",
    "\n",
    "# Initialize dictionary for waveforms strain\n",
    "wfs_o = {}\n",
    "\n",
    "# Initialize dictionary for waveforms log data\n",
    "waveforms_log = {}\n",
    "\n",
    "# Initialize class count\n",
    "class_count = 1\n",
    "\n",
    "for class_files in wf_files:\n",
    "    \n",
    "    print(\"Reading waveforms of class\", class_count)\n",
    "    wfs_c_o = []\n",
    "    wfslog_c = []\n",
    "    \n",
    "    # Read waveform files\n",
    "    for csv in class_files:\n",
    "    \n",
    "        # Read waveform\n",
    "        df = pd.read_csv(csv, usecols=['H'])\n",
    "        strain = df['H'].to_numpy()\n",
    "        wfs_c_o.append(strain)\n",
    "    \n",
    "        # Extract log data\n",
    "        slope, f0, f1 = extract_WFinfo(csv)\n",
    "        wfslog_c.append([slope, f0, f1])\n",
    "\n",
    "        #print(\"File read:\", csv)\n",
    "        \n",
    "    wfs_o[\"class \" + str(class_count)] = wfs_c_o\n",
    "    waveforms_log[\"class \" + str(class_count)] = wfslog_c\n",
    "    \n",
    "    class_count += 1"
   ]
  },
  {
   "cell_type": "code",
   "execution_count": 5,
   "id": "da829c2b-cc6e-4a23-ac43-088f7ebb7cb0",
   "metadata": {},
   "outputs": [
    {
     "name": "stdout",
     "output_type": "stream",
     "text": [
      "Keys of wfs_o dictionary:  dict_keys(['class 1', 'class 2', 'class 3'])\n",
      "Keys of waveforms_log dictionary:  dict_keys(['class 1', 'class 2', 'class 3'])\n"
     ]
    }
   ],
   "source": [
    "# Checks\n",
    "print(\"Keys of wfs_o dictionary: \", wfs_o.keys())\n",
    "print(\"Keys of waveforms_log dictionary: \", waveforms_log.keys())"
   ]
  },
  {
   "cell_type": "markdown",
   "id": "d446eb79-837b-4646-9a1c-2ff86f64635c",
   "metadata": {},
   "source": [
    "## 4. Resampling/Rescaling"
   ]
  },
  {
   "cell_type": "code",
   "execution_count": 6,
   "id": "52ff986a-4811-4dcd-b66c-93e83d9faed1",
   "metadata": {
    "tags": []
   },
   "outputs": [
    {
     "name": "stdout",
     "output_type": "stream",
     "text": [
      "Resampling waveforms of class 1\n",
      "Resampling waveforms of class 2\n",
      "Resampling waveforms of class 3\n"
     ]
    }
   ],
   "source": [
    "# ------> Apply resampling to all waveforms\n",
    "\n",
    "# Set sampling freq (Hz) and sampling time (seconds)\n",
    "fs = 16384\n",
    "ts = 1 / fs\n",
    "\n",
    "# Sort waveforms per class\n",
    "wfs_ini = [wfs_o[\"class 1\"], wfs_o[\"class 2\"], wfs_o[\"class 3\"]]\n",
    "\n",
    "# Initialize dictionary for waveforms strain\n",
    "waveforms = {}\n",
    "\n",
    "# Initialize class count\n",
    "class_count = 1\n",
    "\n",
    "for wf in wfs_ini:\n",
    "    \n",
    "    print(\"Resampling waveforms of class\", class_count)\n",
    "    \n",
    "    # Initialize list for single-class waveforms\n",
    "    wfs_c = []\n",
    "    \n",
    "    # Initialize waveform count\n",
    "    wf_count = 0\n",
    "    \n",
    "    for strain_o in wf:\n",
    "        #print(\"Resampling waveform \", wf_count)\n",
    "        #print(strain)\n",
    "        t_o = []\n",
    "        \n",
    "        # Generate time array\n",
    "        for i in range(len(strain_o)):\n",
    "            t_o.append(i*ts)\n",
    "        time_o = np.array(t_o)\n",
    "    \n",
    "        # -------------------\n",
    "        # Resample waveform\n",
    "        # -------------------\n",
    "        fs_after = 4096\n",
    "        time, strain = resample_gw(time_o, strain_o, fs_after)\n",
    "        \n",
    "        # ----------------------------------------\n",
    "        # Rescale waveform strain by Resc_factor\n",
    "        # ----------------------------------------\n",
    "        strain = strain*Resc_factor\n",
    "    \n",
    "        # Save waveform into wfs_c list\n",
    "        wf_block = np.transpose( np.vstack([time, strain]) )\n",
    "        wfs_c.append(wf_block)\n",
    "        \n",
    "        # Compute waveform duration\n",
    "        duration = time[-1] - time[0]\n",
    "        \n",
    "        # Convert duration value to string\n",
    "        dur = f'{duration:.12f}'\n",
    "        \n",
    "        # Append waveform duration to waveforms_log list\n",
    "        waveforms_log[\"class \" + str(class_count)][wf_count].append(dur)\n",
    "               \n",
    "        wf_count += 1\n",
    "        \n",
    "    # Generate dicionary for all single-class waveforms\n",
    "    waveforms[\"class \" + str(class_count)] = wfs_c\n",
    "    \n",
    "    class_count += 1"
   ]
  },
  {
   "cell_type": "markdown",
   "id": "ce793cf6-1b2b-4570-b0c9-4f8bae6c5134",
   "metadata": {},
   "source": [
    "## 5. Sanity checks"
   ]
  },
  {
   "cell_type": "code",
   "execution_count": 7,
   "id": "e57041ed-de45-44f7-8f41-c9f523507436",
   "metadata": {},
   "outputs": [
    {
     "name": "stdout",
     "output_type": "stream",
     "text": [
      "Keys of waveforms dictionary:  dict_keys(['class 1', 'class 2', 'class 3'])\n",
      "Keys of waveforms_log dictionary:  dict_keys(['class 1', 'class 2', 'class 3'])\n",
      "\n",
      "A waveform strain: [[ 0.00000000e+000  1.70124165e-119]\n",
      " [ 2.44140625e-004 -4.29630229e-105]\n",
      " [ 4.88281250e-004  9.33887287e-103]\n",
      " ...\n",
      " [ 8.38378906e-001 -6.56764606e-022]\n",
      " [ 8.38623047e-001  5.77745072e-022]\n",
      " [ 8.38867188e-001 -2.86201546e-022]]\n",
      "\n",
      "Its log information: ['1493', '111.26', '1758.54', '0.838867187500']\n"
     ]
    }
   ],
   "source": [
    "#%%script false --no-raise-error # WARNING: DEACTIVATED CELL\n",
    "\n",
    "# ------> Check dictionaries\n",
    "\n",
    "print(\"Keys of waveforms dictionary: \", waveforms.keys())\n",
    "print(\"Keys of waveforms_log dictionary: \", waveforms_log.keys())\n",
    "\n",
    "# Remark: How to access waveforms and log data\n",
    "# waveforms[\"class c\"][n]  ---> to extract n-th waveform of class c\n",
    "# waveforms_log[\"class c\"][n]  ---> to extract log data of n-th waveform of class c\n",
    "print(\"\")\n",
    "print(\"A waveform strain:\", waveforms[\"class 2\"][123]) # 123-th waveform of class 2\n",
    "print(\"\")\n",
    "print(\"Its log information:\", waveforms_log[\"class 2\"][123]) # its log data"
   ]
  },
  {
   "cell_type": "code",
   "execution_count": 8,
   "id": "1ca20330-1fbd-4466-810c-564ab509415c",
   "metadata": {},
   "outputs": [
    {
     "data": {
      "image/png": "[encoded data removed]",
      "text/plain": [
       "<Figure size 576x360 with 1 Axes>"
      ]
     },
     "metadata": {
      "needs_background": "light"
     },
     "output_type": "display_data"
    },
    {
     "name": "stdout",
     "output_type": "stream",
     "text": [
      "\n",
      "---------------------------------------------------------------------------\n",
      "Slope=1031 | f0=116.08Hz | f1=1423.62Hz | Duration=0.666503906250s\n",
      "---------------------------------------------------------------------------\n",
      "\n"
     ]
    },
    {
     "data": {
      "text/plain": [
       "<Figure size 432x288 with 0 Axes>"
      ]
     },
     "metadata": {},
     "output_type": "display_data"
    }
   ],
   "source": [
    "#%%script false --no-raise-error # WARNING: DEACTIVATED CELL\n",
    "\n",
    "# ------> Plot a waveform\n",
    "\n",
    "# Set waveform class and number\n",
    "label = \"3\"\n",
    "num_wf = 23\n",
    "\n",
    "# Initialize lists for time and strain\n",
    "time = []\n",
    "strain = []\n",
    "\n",
    "# Fill lists\n",
    "for i in range(len(waveforms[\"class \" + label][num_wf])):\n",
    "    time.append(waveforms[\"class \" + label][num_wf][i][0])\n",
    "    strain.append(waveforms[\"class \" + label][num_wf][i][1])\n",
    "    \n",
    "# Extract log information\n",
    "slope = waveforms_log[\"class \" + label][num_wf][0]\n",
    "f0 = waveforms_log[\"class \" + label][num_wf][1]\n",
    "f1 = waveforms_log[\"class \" + label][num_wf][2]\n",
    "dur = waveforms_log[\"class \" + label][num_wf][3]\n",
    "\n",
    "# Plot waveform\n",
    "plt.figure(1, figsize=(8,5))\n",
    "plt.plot(time, strain)\n",
    "plt.title(\"Phenomenological waveform\", fontsize=17)\n",
    "plt.xlabel('Post-bounce time [s]', fontsize=16)\n",
    "plt.ylabel('Strain', fontsize=16)\n",
    "plt.grid()\n",
    "plt.tight_layout()\n",
    "plt.show()\n",
    "plt.figure(1).clear()\n",
    "gc.collect()\n",
    "print(\"\")\n",
    "print(\"---------------------------------------------------------------------------\")\n",
    "print(\"Slope=\" + slope + \" | f0=\" + f0 + \"Hz | f1=\" + f1 + \"Hz | Duration=\" + dur + \"s\")\n",
    "print(\"---------------------------------------------------------------------------\")\n",
    "print(\"\")"
   ]
  },
  {
   "cell_type": "markdown",
   "id": "a4d2c41f-32c5-46b0-9ee2-9a8cced0a9bd",
   "metadata": {},
   "source": [
    "## 5. Save modified waveforms"
   ]
  },
  {
   "cell_type": "code",
   "execution_count": 9,
   "id": "f70b62d1-ec2c-4b82-8687-cab448622cc5",
   "metadata": {
    "tags": []
   },
   "outputs": [
    {
     "name": "stdout",
     "output_type": "stream",
     "text": [
      "waveforms dictionary saved successfully\n",
      "waveform_log dictionary saved successfully\n"
     ]
    }
   ],
   "source": [
    "# Save waveforms dictionary\n",
    "with open('../Waveforms_mod/Phen/waveforms.pkl', 'wb') as fp:\n",
    "    pickle.dump(waveforms, fp)\n",
    "    print('waveforms dictionary saved successfully')\n",
    "    \n",
    "# Save waveforms_log dictionary\n",
    "with open('../Waveforms_mod/Phen/waveforms_log.pkl', 'wb') as fp:\n",
    "    pickle.dump(waveforms_log, fp)\n",
    "    print('waveform_log dictionary saved successfully')"
   ]
  },
  {
   "cell_type": "code",
   "execution_count": null,
   "id": "26ea1623-01ed-4442-9472-79a3d505b3d4",
   "metadata": {},
   "outputs": [],
   "source": []
  }
 ],
 "metadata": {
  "kernelspec": {
   "display_name": "Python 3 (ipykernel)",
   "language": "python",
   "name": "python3"
  },
  "language_info": {
   "codemirror_mode": {
    "name": "ipython",
    "version": 3
   },
   "file_extension": ".py",
   "mimetype": "text/x-python",
   "name": "python",
   "nbconvert_exporter": "python",
   "pygments_lexer": "ipython3",
   "version": "3.9.7"
  }
 },
 "nbformat": 4,
 "nbformat_minor": 5
}
