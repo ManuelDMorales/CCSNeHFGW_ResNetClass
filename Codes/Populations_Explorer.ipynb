{
 "cells": [
  {
   "cell_type": "markdown",
   "id": "fe6ef668-3a0b-4cde-80ab-5502b9a42b17",
   "metadata": {},
   "source": [
    "<font size=\"5.5\"><u><i>Populations Explorer</i></u></font>"
   ]
  },
  {
   "cell_type": "markdown",
   "id": "92ff6476-1e0b-4ba0-bafc-38b23e72648c",
   "metadata": {},
   "source": [
    "<font size=\"4\">Script to explore population of samples: multiple waveforms + noise</font>\n",
    "<br/>\n",
    "<font size=\"4\">Author: Manuel David Morales</font>"
   ]
  },
  {
   "cell_type": "markdown",
   "id": "ff11d17b-ab4d-40f1-bf3a-d463faf018e8",
   "metadata": {},
   "source": [
    "## 1. Library imports"
   ]
  },
  {
   "cell_type": "code",
   "execution_count": 1,
   "id": "f8f92588-2933-47a8-9b82-b0406b41abbd",
   "metadata": {},
   "outputs": [],
   "source": [
    "# Data analysis\n",
    "import numpy as np \n",
    "import pandas as pd\n",
    "\n",
    "# Visualization\n",
    "import matplotlib as mpl\n",
    "import matplotlib.pyplot as plt\n",
    "\n",
    "# Files/folders management\n",
    "import os, glob, sys\n",
    "\n",
    "# To read csv files\n",
    "import csv\n",
    "\n",
    "# Scientific computing\n",
    "from scipy import signal\n",
    "\n",
    "# Garbage collector\n",
    "import gc\n",
    "\n",
    "# Toolbox functions\n",
    "from Toolbox import PSD, SNR, load_logdata"
   ]
  },
  {
   "cell_type": "markdown",
   "id": "acbaa37d-206a-4d8b-a10d-2623fb6bf479",
   "metadata": {},
   "source": [
    "## 2. Input parameters"
   ]
  },
  {
   "cell_type": "code",
   "execution_count": 2,
   "id": "8e040407-3608-4c0e-9120-50d090990238",
   "metadata": {},
   "outputs": [],
   "source": [
    "# Interferometer for noise data\n",
    "# ------------------------------------------------------------\n",
    "detector = \"L1\"    # Options: \"L1\", \"H1\", \"V1\"\n",
    "# ------------------------------------------------------------"
   ]
  },
  {
   "cell_type": "markdown",
   "id": "4b9225ca-2f94-417f-a29d-342b2719b700",
   "metadata": {},
   "source": [
    "## 3. Read files"
   ]
  },
  {
   "cell_type": "code",
   "execution_count": 3,
   "id": "11049518-f05d-4691-8ca5-d2cde4c9231b",
   "metadata": {},
   "outputs": [
    {
     "name": "stdout",
     "output_type": "stream",
     "text": [
      "SCANNING L1_1257050112 FOLDER\n",
      "------------------------------------------\n",
      "\n",
      "=======> SCANNING wfclass_2 SUBFOLDER\n",
      "\n",
      "READING LOG DATA FILE\n",
      "Log file location: /home/manuel/Research Projects/GW Data analysis/GitHub/CCSNeHFGW_ResNetClass/Datasets/L1_1257050112/wfclass_2/log.dat\n",
      "\n",
      "Processed 510 lines\n",
      "\n",
      "\n",
      "=======> SCANNING wfclass_1 SUBFOLDER\n",
      "\n",
      "READING LOG DATA FILE\n",
      "Log file location: /home/manuel/Research Projects/GW Data analysis/GitHub/CCSNeHFGW_ResNetClass/Datasets/L1_1257050112/wfclass_1/log.dat\n",
      "\n",
      "Processed 512 lines\n",
      "\n",
      "\n",
      "=======> SCANNING wfclass_3 SUBFOLDER\n",
      "\n",
      "READING LOG DATA FILE\n",
      "Log file location: /home/manuel/Research Projects/GW Data analysis/GitHub/CCSNeHFGW_ResNetClass/Datasets/L1_1257050112/wfclass_3/log.dat\n",
      "\n",
      "Processed 507 lines\n",
      "\n",
      "\n",
      "SCANNING L1_1256783872 FOLDER\n",
      "------------------------------------------\n",
      "\n",
      "=======> SCANNING wfclass_2 SUBFOLDER\n",
      "\n",
      "READING LOG DATA FILE\n",
      "Log file location: /home/manuel/Research Projects/GW Data analysis/GitHub/CCSNeHFGW_ResNetClass/Datasets/L1_1256783872/wfclass_2/log.dat\n",
      "\n",
      "Processed 510 lines\n",
      "\n",
      "\n",
      "=======> SCANNING wfclass_1 SUBFOLDER\n",
      "\n",
      "READING LOG DATA FILE\n",
      "Log file location: /home/manuel/Research Projects/GW Data analysis/GitHub/CCSNeHFGW_ResNetClass/Datasets/L1_1256783872/wfclass_1/log.dat\n",
      "\n",
      "Processed 511 lines\n",
      "\n",
      "\n",
      "=======> SCANNING wfclass_3 SUBFOLDER\n",
      "\n",
      "READING LOG DATA FILE\n",
      "Log file location: /home/manuel/Research Projects/GW Data analysis/GitHub/CCSNeHFGW_ResNetClass/Datasets/L1_1256783872/wfclass_3/log.dat\n",
      "\n",
      "Processed 509 lines\n",
      "\n",
      "\n",
      "***** Total number of loaded injections:  3059\n"
     ]
    }
   ],
   "source": [
    "# ------> Specify folder location\n",
    "\n",
    "datasets_dir = '/home/manuel/Research Projects/GW Data analysis/GitHub/CCSNeHFGW_ResNetClass/Datasets/'\n",
    "\n",
    "# Initialize list for strain segments\n",
    "strain_segments = []\n",
    "\n",
    "# Initialize No. of total injections count \n",
    "Num_injections_total = 0\n",
    "\n",
    "# ------> Scan folder and load log data files\n",
    "\n",
    "os.chdir(datasets_dir)\n",
    "\n",
    "for folder in glob.glob(detector + \"*\"):\n",
    "    print(\"SCANNING\", folder, \"FOLDER\")\n",
    "    print(\"------------------------------------------\")\n",
    "\n",
    "    # Initialize dictionary to distinguish classes\n",
    "    populations = {}\n",
    "    \n",
    "    # Call function to load log data files\n",
    "    populations, Num_injections = load_logdata(datasets_dir + folder, populations)\n",
    "    \n",
    "    strain_segments.append(populations)\n",
    "    \n",
    "    Num_injections_total += Num_injections\n",
    "\n",
    "print(\"***** Total number of loaded injections: \", Num_injections_total)"
   ]
  },
  {
   "cell_type": "code",
   "execution_count": 4,
   "id": "08438290-63cc-4af2-9ba5-02c911b2f58a",
   "metadata": {},
   "outputs": [
    {
     "name": "stdout",
     "output_type": "stream",
     "text": [
      "Key of all noise segment dictionaries:\n",
      "----------------------------------------\n",
      "dict_keys(['class 2', 'class 1', 'class 3'])\n",
      "dict_keys(['class 2', 'class 1', 'class 3'])\n"
     ]
    }
   ],
   "source": [
    "# ------> Some checks\n",
    "\n",
    "print(\"Key of all noise segment dictionaries:\")\n",
    "print(\"----------------------------------------\")\n",
    "print(strain_segments[0].keys())\n",
    "print(strain_segments[1].keys())"
   ]
  },
  {
   "cell_type": "markdown",
   "id": "19de7e9e-6c4d-49a4-9334-ac571f3affb0",
   "metadata": {
    "tags": []
   },
   "source": [
    "## 4. Prepare data"
   ]
  },
  {
   "cell_type": "code",
   "execution_count": 5,
   "id": "9508d33a-8e72-4697-afee-28c03f9ed777",
   "metadata": {
    "tags": []
   },
   "outputs": [],
   "source": [
    "# ------> Join together populations from different strain segments\n",
    "\n",
    "# Initialize dictionaries for each population\n",
    "\n",
    "wf_SNR = {}; Slope = {}; f_ini = {}; f_end = {}; wf_duration = {}\n",
    "\n",
    "# Loop 1: For waveform classes\n",
    "for class_label in [\"class 1\", \"class 2\", \"class 3\"]:\n",
    "    \n",
    "    wf_SNR_list = []\n",
    "    Slope_list = []\n",
    "    f_ini_list = []\n",
    "    f_end_list = []\n",
    "    wf_duration_list = []\n",
    "    \n",
    "    # Lopp 2: For strain segments\n",
    "    for iseg in range(len(strain_segments)):\n",
    "        \n",
    "        # Remark: indexes for each population, strain_segments[iseg][class_label][i]\n",
    "        # i=0 Injection time | i=1 jitter  | i=2 waveform SNR\n",
    "        # i=3 g-mode slope   | i=4 freq f0 | i=5 freq f1 | i=6 waveform duration\n",
    "        \n",
    "        wf_SNR_list = wf_SNR_list + strain_segments[iseg][class_label][2]\n",
    "        Slope_list = Slope_list + strain_segments[iseg][class_label][3]\n",
    "        f_ini_list = f_ini_list + strain_segments[iseg][class_label][4]\n",
    "        f_end_list = f_end_list + strain_segments[iseg][class_label][5]\n",
    "        wf_duration_list = wf_duration_list + strain_segments[iseg][class_label][6]\n",
    "    \n",
    "    wf_SNR[class_label] = wf_SNR_list\n",
    "    Slope[class_label] = Slope_list\n",
    "    f_ini[class_label] = f_ini_list\n",
    "    f_end[class_label] = f_end_list\n",
    "    wf_duration[class_label] = wf_duration_list"
   ]
  },
  {
   "cell_type": "code",
   "execution_count": 6,
   "id": "8ad44628-df35-43b6-a27b-4eef01767b83",
   "metadata": {},
   "outputs": [
    {
     "name": "stdout",
     "output_type": "stream",
     "text": [
      "No. of wf_SNR elements\n",
      "------------------------\n",
      "Class 1 = 1021 | Class 2 = 1018 | Class 3 = 1014\n",
      "\n",
      "No. of Slope elements\n",
      "-----------------------\n",
      "Class 1 = 1021 | Class 2 = 1018 | Class 3 = 1014\n",
      "\n",
      "No. of f0 elements\n",
      "--------------------\n",
      "Class 1 = 1021 | Class 2 = 1018 | Class 3 = 1014\n",
      "\n",
      "No. of f1 elements\n",
      "--------------------\n",
      "Class 1 = 1021 | Class 2 = 1018 | Class 3 = 1014\n",
      "\n",
      "No. of wf_duration elements\n",
      "-----------------------------\n",
      "Class 1 = 1021 | Class 2 = 1018 | Class 3 = 1014\n",
      "\n"
     ]
    }
   ],
   "source": [
    "# ------> Convert lists to numpy arrays, clear memory from lists\n",
    "\n",
    "wf_SNR_c1 = np.array(wf_SNR[\"class 1\"], dtype='float64')\n",
    "wf_SNR_c2 = np.array(wf_SNR[\"class 2\"], dtype='float64')\n",
    "wf_SNR_c3 = np.array(wf_SNR[\"class 3\"], dtype='float64')\n",
    "print(\"No. of wf_SNR elements\")\n",
    "print(\"------------------------\")\n",
    "print(\"Class 1 =\", len(wf_SNR_c1), \"| Class 2 =\", len(wf_SNR_c2), \"| Class 3 =\", len(wf_SNR_c3))\n",
    "print(\"\")\n",
    "\n",
    "Slope_c1 = np.array(Slope[\"class 1\"], dtype='float64')\n",
    "Slope_c2 = np.array(Slope[\"class 2\"], dtype='float64')\n",
    "Slope_c3 = np.array(Slope[\"class 3\"], dtype='float64')\n",
    "print(\"No. of Slope elements\")\n",
    "print(\"-----------------------\")\n",
    "print(\"Class 1 =\", len(Slope_c1), \"| Class 2 =\", len(Slope_c2), \"| Class 3 =\", len(Slope_c3))\n",
    "print(\"\")\n",
    "\n",
    "\n",
    "f_ini_c1 = np.array(f_ini[\"class 1\"], dtype='float64')\n",
    "f_ini_c2 = np.array(f_ini[\"class 2\"], dtype='float64')\n",
    "f_ini_c3 = np.array(f_ini[\"class 3\"], dtype='float64')\n",
    "print(\"No. of f0 elements\")\n",
    "print(\"--------------------\")\n",
    "print(\"Class 1 =\", len(f_ini_c1), \"| Class 2 =\", len(f_ini_c2), \"| Class 3 =\", len(f_ini_c3))\n",
    "print(\"\")\n",
    "\n",
    "f_end_c1 = np.array(f_end[\"class 1\"], dtype='float64')\n",
    "f_end_c2 = np.array(f_end[\"class 2\"], dtype='float64')\n",
    "f_end_c3 = np.array(f_end[\"class 3\"], dtype='float64')\n",
    "print(\"No. of f1 elements\")\n",
    "print(\"--------------------\")\n",
    "print(\"Class 1 =\", len(f_end_c1), \"| Class 2 =\", len(f_end_c2), \"| Class 3 =\", len(f_end_c3))\n",
    "print(\"\")\n",
    "\n",
    "wf_duration_c1 = np.array(wf_duration[\"class 1\"], dtype='float64')\n",
    "wf_duration_c2 = np.array(wf_duration[\"class 2\"], dtype='float64')\n",
    "wf_duration_c3 = np.array(wf_duration[\"class 3\"], dtype='float64')\n",
    "print(\"No. of wf_duration elements\")\n",
    "print(\"-----------------------------\")\n",
    "print(\"Class 1 =\", len(wf_duration_c1), \"| Class 2 =\", len(wf_duration_c2), \"| Class 3 =\", len(wf_duration_c3))\n",
    "print(\"\")"
   ]
  },
  {
   "cell_type": "markdown",
   "id": "a8ff7513-8d3a-466e-b2de-cf8986175e7c",
   "metadata": {
    "tags": []
   },
   "source": [
    "## 5. Explore distributions"
   ]
  },
  {
   "cell_type": "markdown",
   "id": "0d1b2188-bc41-4b79-b537-835c1ff50e26",
   "metadata": {},
   "source": [
    "### 5.1. Signal-to-noise ratio (SNR)"
   ]
  },
  {
   "cell_type": "code",
   "execution_count": 7,
   "id": "8d563157-64e9-4ec9-a6bf-1c0f60825f40",
   "metadata": {},
   "outputs": [
    {
     "data": {
      "image/png": "[encoded data removed]",
      "text/plain": [
       "<Figure size 576x360 with 1 Axes>"
      ]
     },
     "metadata": {
      "needs_background": "light"
     },
     "output_type": "display_data"
    },
    {
     "data": {
      "text/plain": [
       "10346"
      ]
     },
     "execution_count": 7,
     "metadata": {},
     "output_type": "execute_result"
    },
    {
     "data": {
      "text/plain": [
       "<Figure size 432x288 with 0 Axes>"
      ]
     },
     "metadata": {},
     "output_type": "display_data"
    }
   ],
   "source": [
    "# ------> Signal-to-noise ratio\n",
    "\n",
    "plt.figure(1, figsize=(8,5))\n",
    "\n",
    "bins = np.histogram(np.hstack((wf_SNR_c1, wf_SNR_c2, wf_SNR_c3)), bins=40)[1]\n",
    "                              \n",
    "plt.hist(wf_SNR_c1, bins, label='Class 1', alpha=.8, edgecolor='yellow')\n",
    "plt.hist(wf_SNR_c2, bins, label='Class 2', alpha=.7, edgecolor='red')\n",
    "plt.hist(wf_SNR_c3, bins, label='Class 3', alpha=.6, edgecolor='blue')\n",
    "\n",
    "plt.title(\"SNR distribution\", fontsize=14)\n",
    "plt.ylabel(\"Samples count\", fontsize=13)\n",
    "plt.xlabel(\"SNR values\", fontsize=13)\n",
    "plt.grid(which='both', linestyle=':')\n",
    "\n",
    "plt.legend(fontsize=12)\n",
    "\n",
    "plt.savefig(\"../../Figures/distribution_snr.pdf\", format=\"pdf\")\n",
    "#plt.savefig(\"../../Figures/distribution_snr.eps\", format=\"eps\")\n",
    "\n",
    "plt.show()\n",
    "plt.figure(1).clear()\n",
    "gc.collect()"
   ]
  },
  {
   "cell_type": "markdown",
   "id": "db56ab52-20b3-4c0e-9c20-9bb707dc2c42",
   "metadata": {},
   "source": [
    "### 5.2. Slope of the high frequency mode"
   ]
  },
  {
   "cell_type": "code",
   "execution_count": 8,
   "id": "7fca95d6-58c2-4205-b809-fb4fb29849fd",
   "metadata": {},
   "outputs": [
    {
     "data": {
      "image/png": "[encoded data removed]",
      "text/plain": [
       "<Figure size 576x360 with 1 Axes>"
      ]
     },
     "metadata": {
      "needs_background": "light"
     },
     "output_type": "display_data"
    },
    {
     "data": {
      "text/plain": [
       "10488"
      ]
     },
     "execution_count": 8,
     "metadata": {},
     "output_type": "execute_result"
    },
    {
     "data": {
      "text/plain": [
       "<Figure size 432x288 with 0 Axes>"
      ]
     },
     "metadata": {},
     "output_type": "display_data"
    }
   ],
   "source": [
    "# ------> Slope of the high frequency mode\n",
    "\n",
    "plt.figure(2, figsize=(8,5))\n",
    "\n",
    "bins = np.histogram(np.hstack((Slope_c1, Slope_c2, Slope_c3)), bins=40)[1]\n",
    "\n",
    "plt.hist(Slope_c1, bins=bins, label='Class 1', alpha=.8, edgecolor='black')\n",
    "plt.hist(Slope_c2, bins=bins, label='Class 2', alpha=.7, edgecolor='black')\n",
    "plt.hist(Slope_c3, bins=bins, label='Class 3', alpha=.6, edgecolor='black')\n",
    "\n",
    "plt.title(\"Slope distribution\", fontsize=14)\n",
    "plt.ylabel(\"Samples count\", fontsize=13)\n",
    "plt.xlabel(\"Slope values\", fontsize=13)\n",
    "plt.grid(which='both', linestyle=':')\n",
    "\n",
    "plt.legend(fontsize=12)\n",
    "\n",
    "plt.savefig(\"../../Figures/distribution_slope.pdf\", format=\"pdf\")\n",
    "#plt.savefig(\"../../Figures/distribution_slope.eps\", format=\"eps\")\n",
    "\n",
    "plt.show()\n",
    "plt.figure(2).clear()\n",
    "gc.collect()"
   ]
  },
  {
   "cell_type": "markdown",
   "id": "fae30ff9-5438-4f8f-a00d-46cd7346033c",
   "metadata": {},
   "source": [
    "### 5.3. Waveform duration"
   ]
  },
  {
   "cell_type": "code",
   "execution_count": 9,
   "id": "118ce5e1-f617-4ee2-8285-0904a3001f8b",
   "metadata": {},
   "outputs": [
    {
     "data": {
      "image/png": "[encoded data removed]",
      "text/plain": [
       "<Figure size 576x360 with 1 Axes>"
      ]
     },
     "metadata": {
      "needs_background": "light"
     },
     "output_type": "display_data"
    },
    {
     "data": {
      "text/plain": [
       "10658"
      ]
     },
     "execution_count": 9,
     "metadata": {},
     "output_type": "execute_result"
    },
    {
     "data": {
      "text/plain": [
       "<Figure size 432x288 with 0 Axes>"
      ]
     },
     "metadata": {},
     "output_type": "display_data"
    }
   ],
   "source": [
    "# ------> Waveform duration\n",
    "\n",
    "plt.figure(3, figsize=(8,5))\n",
    "\n",
    "bins = np.histogram(np.hstack((wf_duration_c1, wf_duration_c2, wf_duration_c3)), bins=40)[1]\n",
    "\n",
    "plt.hist(wf_duration_c1, bins=bins, label='Class 1', alpha=.8, edgecolor='black')\n",
    "plt.hist(wf_duration_c2, bins=bins, label='Class 2', alpha=.7, edgecolor='black')\n",
    "plt.hist(wf_duration_c3, bins=bins, label='Class 3', alpha=.6, edgecolor='black')\n",
    "\n",
    "plt.title(\"Waveform duration distribution\", fontsize=14)\n",
    "plt.ylabel(\"Samples count\", fontsize=13)\n",
    "plt.xlabel(\"Duration values [s]\", fontsize=13)\n",
    "plt.grid(which='both', linestyle=':')\n",
    "\n",
    "plt.legend(fontsize=12)\n",
    "\n",
    "plt.savefig(\"../../Figures/distribution_wfduration.pdf\", format=\"pdf\")\n",
    "#plt.savefig(\"../../Figures/distribution_wfduration.eps\", format=\"eps\")\n",
    "\n",
    "plt.show()\n",
    "plt.figure(3).clear()\n",
    "gc.collect()"
   ]
  },
  {
   "cell_type": "markdown",
   "id": "952f5633-8b6c-4db7-af3e-1a43fcec83d5",
   "metadata": {},
   "source": [
    "### 5.4. Frequency range (f1-f0)"
   ]
  },
  {
   "cell_type": "code",
   "execution_count": 10,
   "id": "c69e0000-7f01-4737-a1ca-96a8322926b3",
   "metadata": {},
   "outputs": [
    {
     "data": {
      "image/png": "[encoded data removed]",
      "text/plain": [
       "<Figure size 576x360 with 1 Axes>"
      ]
     },
     "metadata": {
      "needs_background": "light"
     },
     "output_type": "display_data"
    },
    {
     "data": {
      "text/plain": [
       "11934"
      ]
     },
     "execution_count": 10,
     "metadata": {},
     "output_type": "execute_result"
    },
    {
     "data": {
      "text/plain": [
       "<Figure size 432x288 with 0 Axes>"
      ]
     },
     "metadata": {},
     "output_type": "display_data"
    }
   ],
   "source": [
    "# ------> Initial frequencies\n",
    "\n",
    "Deltaf_c1 = f_end_c1 - f_ini_c1\n",
    "Deltaf_c2 = f_end_c2 - f_ini_c2\n",
    "Deltaf_c3 = f_end_c3 - f_ini_c3\n",
    "\n",
    "plt.figure(4, figsize=(8,5))\n",
    "\n",
    "bins = np.histogram(np.hstack((Deltaf_c1, Deltaf_c2, Deltaf_c3)), bins=40)[1]\n",
    "\n",
    "plt.hist(Deltaf_c1, bins=bins, label='Class 1', alpha=.8, edgecolor='black')\n",
    "plt.hist(Deltaf_c2, bins=bins, label='Class 2', alpha=.7, edgecolor='black')\n",
    "plt.hist(Deltaf_c3, bins=bins, label='Class 3', alpha=.6, edgecolor='black')\n",
    "\n",
    "plt.title(\"Frequency range ($f1-f0$) distribution\", fontsize=14)\n",
    "plt.ylabel(\"Samples count\", fontsize=13)\n",
    "plt.xlabel(\"Frequency range [Hz]\", fontsize=13)\n",
    "plt.grid(which='both', linestyle=':')\n",
    "\n",
    "plt.legend(fontsize=12)\n",
    "\n",
    "#plt.savefig(\"../../Figures/distribution_Deltaf.pdf\", format=\"pdf\")\n",
    "#plt.savefig(\"../../Figures/distribution_Deltaf.eps\", format=\"eps\")\n",
    "\n",
    "plt.show()\n",
    "plt.figure(4).clear()\n",
    "gc.collect()"
   ]
  },
  {
   "cell_type": "code",
   "execution_count": null,
   "id": "0f69ee2c-25e2-4858-98f2-80296db88ac8",
   "metadata": {},
   "outputs": [],
   "source": []
  }
 ],
 "metadata": {
  "kernelspec": {
   "display_name": "Python 3 (ipykernel)",
   "language": "python",
   "name": "python3"
  },
  "language_info": {
   "codemirror_mode": {
    "name": "ipython",
    "version": 3
   },
   "file_extension": ".py",
   "mimetype": "text/x-python",
   "name": "python",
   "nbconvert_exporter": "python",
   "pygments_lexer": "ipython3",
   "version": "3.9.7"
  }
 },
 "nbformat": 4,
 "nbformat_minor": 5
}
