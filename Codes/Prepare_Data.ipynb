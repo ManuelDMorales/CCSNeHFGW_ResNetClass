{
 "cells": [
  {
   "cell_type": "markdown",
   "id": "0c6483e9-3877-410a-a3d4-8e84ccf4090a",
   "metadata": {},
   "source": [
    "<font size=\"5.5\"><u><i>Prepare Data</i></u></font>"
   ]
  },
  {
   "cell_type": "markdown",
   "id": "d1a5cf8a-5c8e-44f2-97f4-82bc7f07c9fe",
   "metadata": {},
   "source": [
    "<font size=\"4\">Script to perform data conditioning for multi-injected strain data: whitening and band-pass filtering</font>\n",
    "<br/>\n",
    "<font size=\"4\">Author: Manuel David Morales</font>"
   ]
  },
  {
   "cell_type": "markdown",
   "id": "18f53ad7-1423-4c63-85b1-e597101fc8a1",
   "metadata": {},
   "source": [
    "## 1. Library imports"
   ]
  },
  {
   "cell_type": "code",
   "execution_count": 1,
   "id": "ed2fe448-5b17-4970-9911-48ae01dd5608",
   "metadata": {},
   "outputs": [],
   "source": [
    "# Data analysis\n",
    "import numpy as np \n",
    "import pandas as pd\n",
    "\n",
    "# Visualization\n",
    "import matplotlib as mpl\n",
    "import matplotlib.pyplot as plt\n",
    "\n",
    "# Files/folders management\n",
    "import os, glob, sys, re\n",
    "\n",
    "# To read csv files\n",
    "import csv\n",
    "\n",
    "# Scientific computing\n",
    "from scipy import signal\n",
    "\n",
    "# Garbage collector\n",
    "import gc\n",
    "\n",
    "# Toolbox functions\n",
    "from Toolbox import PSD, whitening, whitening_PyCBC, filt_bandpass, filt_bandpass_PyCBC, WaveletTF_transform"
   ]
  },
  {
   "cell_type": "markdown",
   "id": "f621cc4f-69cb-4f60-a797-31db9ae44501",
   "metadata": {},
   "source": [
    "## 2. Input parameters"
   ]
  },
  {
   "cell_type": "code",
   "execution_count": 2,
   "id": "f5028ba6-db41-4c9f-be72-8c2612e0a3a1",
   "metadata": {},
   "outputs": [],
   "source": [
    "# Interferometer for noise data\n",
    "# ------------------------------------------------------------\n",
    "detector = \"V1\"    # Options: \"L1\", \"H1\", \"V1\"\n",
    "# ------------------------------------------------------------\n",
    "\n",
    "# Filter's frequency band\n",
    "# ------------------------------------------------------------\n",
    "set_band = np.array([100,1800])  # frequency band (in Hz)\n",
    "# ------------------------------------------------------------\n",
    "\n",
    "# Remark, about the frequency band:\n",
    "# This choice is important, in order to capture g-mode, which cover a wide\n",
    "# region in the frequency domain. It is important to guide our choise in\n",
    "# the original TF plots for the waveforms before injected to noise."
   ]
  },
  {
   "cell_type": "markdown",
   "id": "ec7ae643-3628-4c87-b606-ca41f404fcea",
   "metadata": {},
   "source": [
    "## 3. Read files"
   ]
  },
  {
   "cell_type": "code",
   "execution_count": 3,
   "id": "e2dcce3e-fef6-43ca-9ae7-d11ee16c5f38",
   "metadata": {},
   "outputs": [],
   "source": [
    "# ------> Specify folder locations\n",
    "\n",
    "preprocess_dir = '/home/manuel/Research Projects/GW Data analysis/GitHub/CCSNeHFGW_ResNetClass/Codes/Preprocessed_Data'\n",
    "\n",
    "# ------> Initialize lists\n",
    "\n",
    "time = []\n",
    "strain = []\n",
    "s_files = []\n",
    "\n",
    "# ------> Scan strain data and waveform files\n",
    "\n",
    "os.chdir(preprocess_dir)\n",
    "\n",
    "for file in glob.glob(\"strain_\" + detector + \"*injected*\"):\n",
    "    s_files.append(file)"
   ]
  },
  {
   "cell_type": "code",
   "execution_count": 4,
   "id": "75cee331-f57c-4b10-954e-b27006a12130",
   "metadata": {},
   "outputs": [
    {
     "name": "stdout",
     "output_type": "stream",
     "text": [
      "Available strain files\n",
      "strain_V1_1257050112_injected_wfclass1.txt  |  Input option : 0\n",
      "strain_V1_1256783872_injected_wfclass1.txt  |  Input option : 1\n",
      "strain_V1_1256783872_injected_wfclass3.txt  |  Input option : 2\n",
      "strain_V1_1256783872_injected_wfclass2.txt  |  Input option : 3\n",
      "strain_V1_1257050112_injected_wfclass2.txt  |  Input option : 4\n",
      "strain_V1_1257050112_injected_wfclass3.txt  |  Input option : 5\n",
      "\n"
     ]
    },
    {
     "name": "stdin",
     "output_type": "stream",
     "text": [
      "======> Enter your option: 5\n"
     ]
    },
    {
     "name": "stdout",
     "output_type": "stream",
     "text": [
      "\n",
      "***** READING FILE strain_V1_1257050112_injected_wfclass3.txt  *****\n",
      "Data columns: time, strain\n",
      "Processed 16777217 lines\n"
     ]
    }
   ],
   "source": [
    "print(\"Available strain files\")\n",
    "for file in range(len(s_files)):\n",
    "    print(s_files[file] + \"  |  Input option :\", file)\n",
    "print(\"\")\n",
    "\n",
    "file_i = input(\"======> Enter your option:\")\n",
    "file_i = int(file_i)\n",
    "print(\"\")\n",
    "\n",
    "# ------> Load strain data (this data include injections) \n",
    "\n",
    "print(\"***** READING FILE\", s_files[file_i], \" *****\")\n",
    "with open(s_files[file_i]) as csv_file:\n",
    "    csv_reader = csv.reader(csv_file, delimiter=',')\n",
    "    line_count = 0\n",
    "    for row in csv_reader:\n",
    "        if line_count == 0:\n",
    "            print(f'Data columns: {\", \".join(row)}')\n",
    "            line_count += 1\n",
    "        else:\n",
    "            time.append(row[0])\n",
    "            strain.append(row[1])\n",
    "            #print(f'\\t{row[0]} works in the {row[1]}.')\n",
    "            line_count += 1\n",
    "    print(f'Processed {line_count} lines')\n",
    "\n",
    "# Important remark: Make sure that your option includes the GPS start time\n",
    "#                   and slope value previously choosen in Make_Injections script"
   ]
  },
  {
   "cell_type": "code",
   "execution_count": 5,
   "id": "b78c44bc-765c-470c-9f9f-9df3ff02bdc0",
   "metadata": {},
   "outputs": [
    {
     "data": {
      "text/plain": [
       "0"
      ]
     },
     "execution_count": 5,
     "metadata": {},
     "output_type": "execute_result"
    }
   ],
   "source": [
    "# ------> Convert lists to numpy arrays, clear memory from lists\n",
    "\n",
    "t = np.array(time, dtype='float64')\n",
    "del(time)\n",
    "gc.collect()\n",
    "\n",
    "s_raw = np.array(strain, dtype='float64')\n",
    "del(strain)\n",
    "gc.collect()"
   ]
  },
  {
   "cell_type": "markdown",
   "id": "037465e4-2786-4c81-af70-55aeacc3f1c8",
   "metadata": {},
   "source": [
    "## 4. Whitening preparation"
   ]
  },
  {
   "cell_type": "code",
   "execution_count": 6,
   "id": "c125c189-d227-4193-8c1b-2e612a72c790",
   "metadata": {},
   "outputs": [],
   "source": [
    "doplot_sraw = 0\n",
    "\n",
    "# ------> Check: Plot s_raw in the time domain\n",
    "\n",
    "if doplot_sraw:\n",
    "    \n",
    "    plt.figure(1, figsize=(8,5))\n",
    "\n",
    "    # Comment/uncomment these lines to visualize padding\n",
    "    #plt.plot(t[:padd+5000], s_raw[:padd+5000], label='s_raw')\n",
    "    #plt.plot(t[-padd-5000:], s_raw[-padd-5000:], label='s_raw')\n",
    "    plt.plot(t, s_raw, label='s_raw')\n",
    "\n",
    "    plt.title(\"S raw strain data\", fontsize=18)\n",
    "    plt.ylabel(\"Strain (unitless)\", fontsize=13)\n",
    "    plt.xlabel(\"time (seconds)\", fontsize=13)\n",
    "    plt.show()\n",
    "    plt.figure(1).clear()\n",
    "    gc.collect()"
   ]
  },
  {
   "cell_type": "code",
   "execution_count": 7,
   "id": "8664d02c-686c-4e30-b43c-6abe0cb2ff98",
   "metadata": {},
   "outputs": [
    {
     "name": "stdout",
     "output_type": "stream",
     "text": [
      "Num of samples in raw strain segment:  16777216\n"
     ]
    }
   ],
   "source": [
    "# ------> Count samples in the data segment\n",
    "\n",
    "Nsamples = len(t)\n",
    "print(\"Num of samples in raw strain segment: \", Nsamples)\n",
    "\n",
    "# ------> Check\n",
    "\n",
    "if Nsamples % 2 == 1:\n",
    "    raise ValueError('Nsamples is odd')\n",
    "\n",
    "# ------> Compute sampling freq and time\n",
    "\n",
    "fs = 1 / (t[1]-t[0])  # Sampling frequency\n",
    "ts = 1 / fs           # sampling time"
   ]
  },
  {
   "cell_type": "markdown",
   "id": "8a06a8eb-0e7d-4cf2-b2ea-ace61455e7ad",
   "metadata": {},
   "source": [
    "## 5. Whitening application"
   ]
  },
  {
   "cell_type": "code",
   "execution_count": 8,
   "id": "e3c5c1e7-1185-4c8b-abcd-df30d880c126",
   "metadata": {},
   "outputs": [],
   "source": [
    "# ------> Whitening input parameters\n",
    "\n",
    "doplots_white = 0     # Do plots for check\n",
    "\n",
    "seg = 4 #0.5                # Welch's segments size (in seconds)\n",
    "nperseg = int(seg*fs)       # Welch's segments size (in sample units)\n",
    "nfft = Nsamples             # FFT size (in sample units)\n",
    "\n",
    "# Only for PyCBC implementation\n",
    "\n",
    "cut = 10.0 # This is the cut's length (in seconds) to remove edge artifacts\n",
    "           # in whitened strain data: (cut/2) at left edge, (cut/2) at right edge\n"
   ]
  },
  {
   "cell_type": "code",
   "execution_count": 9,
   "id": "faf630b7-361e-47f4-81e2-e19a808ccf1e",
   "metadata": {},
   "outputs": [],
   "source": [
    "# ------> Apply whitening to raw strain data\n",
    "\n",
    "s_white_t, psd_raw, fpsd_raw, psd_white, fpsd_white = whitening_PyCBC(s_raw, seg, cut, ts, doplots_white)\n",
    "\n",
    "t_white = s_white_t.sample_times"
   ]
  },
  {
   "cell_type": "code",
   "execution_count": 10,
   "id": "d361615a-2748-4943-9c4a-aa713a07c6b3",
   "metadata": {},
   "outputs": [],
   "source": [
    "# ------> Convert PyCBC elements to numpy arrays\n",
    "\n",
    "t_white = np.array(t_white, dtype='float64')\n",
    "s_white_t = np.array(s_white_t, dtype='float64')\n",
    "psd_white = np.array(psd_white, dtype='float64')\n",
    "fpsd_white = np.array(fpsd_white, dtype='float64')"
   ]
  },
  {
   "cell_type": "markdown",
   "id": "1be1b485-0766-42ec-9416-3f82b40133cd",
   "metadata": {},
   "source": [
    "## 6. Whitening sanity check"
   ]
  },
  {
   "cell_type": "code",
   "execution_count": 11,
   "id": "70492f9a-68b4-4548-b39b-a44dfa747933",
   "metadata": {},
   "outputs": [],
   "source": [
    "doplot_swhite_t = 0\n",
    "Nsamples_white = len(t_white)\n",
    "\n",
    "# ------> Check: Plot whitened s_raw\n",
    "\n",
    "if doplot_swhite_t:\n",
    "    \n",
    "    plt.figure(figsize=(8,5))\n",
    "    plt.plot(t_white, s_white_t, label='s_white')\n",
    "    plt.title(\"S whitened data\", fontsize=18)\n",
    "    plt.ylabel(\"Strain (unitless)\", fontsize=13)\n",
    "    plt.xlabel(\"time (seconds)\", fontsize=13)\n",
    "    plt.show()\n",
    "    plt.figure().clear()\n",
    "    gc.collect()\n",
    "    print(\"\")\n",
    "    print(\"Num of samples in whitened strain segment: \", Nsamples_white)"
   ]
  },
  {
   "cell_type": "markdown",
   "id": "9be2e263-ad37-4995-b114-01c3016546f4",
   "metadata": {},
   "source": [
    "## 7. Band-pass filtering application"
   ]
  },
  {
   "cell_type": "code",
   "execution_count": 12,
   "id": "1f43c178-3998-426e-8bdd-97f0aedec7ac",
   "metadata": {},
   "outputs": [],
   "source": [
    "# ------> Input parameters\n",
    "\n",
    "doplots_bp = 0              # Do plots for check\n",
    "n_order = 8                 # Filter's order\n",
    "band = set_band\n",
    "\n",
    "seg = 4 #0.5                # Welch's segments size (in seconds)\n",
    "nperseg = int(seg*fs)       # Welch's segments size (in sample units)"
   ]
  },
  {
   "cell_type": "code",
   "execution_count": 13,
   "id": "879346b7-19f8-4b80-939e-42fbaa5b1a6a",
   "metadata": {},
   "outputs": [],
   "source": [
    "# ------> Apply band-pass filtering to whitened strain data\n",
    "\n",
    "s_filt_t, psd_filt, fpsd_filt = filt_bandpass_PyCBC(s_white_t, n_order, band, ts, seg, doplots_bp)\n",
    "\n",
    "t_filt = s_filt_t.sample_times"
   ]
  },
  {
   "cell_type": "code",
   "execution_count": 14,
   "id": "9b45ac12-a240-4ace-bf6e-90093f7137ea",
   "metadata": {},
   "outputs": [],
   "source": [
    "# ------> Convert PyCBC elements to numpy arrays\n",
    "\n",
    "t_filt = np.array(t_filt, dtype='float64')\n",
    "s_filt_t = np.array(s_filt_t, dtype='float64')\n",
    "psd_filt = np.array(psd_filt, dtype='float64')\n",
    "fpsd_filt = np.array(fpsd_filt, dtype='float64')\n",
    "\n",
    "# ------> Displace time of filtered strain data\n",
    "\n",
    "t_filt = t_filt + t_white[0]"
   ]
  },
  {
   "cell_type": "markdown",
   "id": "b85c37e7-ce13-4df7-9e0c-17b7daaa4e1c",
   "metadata": {
    "tags": []
   },
   "source": [
    "## 8. Band-pass filtering sanity check"
   ]
  },
  {
   "cell_type": "code",
   "execution_count": 15,
   "id": "0223f25c-e711-4118-a166-9edc38f7b243",
   "metadata": {},
   "outputs": [],
   "source": [
    "# ------> Check: Plot spectrogram\n",
    "\n",
    "# Remark: Run this check for a short data segment with a few injections\n",
    "\n",
    "doplot_spectrogram = 0\n",
    "\n",
    "wnd=\"hamming\" # Window for spectrograms\n",
    "\n",
    "if doplot_spectrogram:\n",
    "    \n",
    "    freq, time, Sxx = signal.spectrogram(s_filt_t, fs, window=wnd, nperseg=1024)\n",
    "    #time, freq, WL = WaveletTF_transform(s_filt_t, fs, 1, 2000, 5, 7, 0)\n",
    "    \n",
    "    plt.figure(1,figsize=(6.5,5))\n",
    "    plt.pcolormesh(time+t_filt[0], freq, Sxx, shading='gouraud')\n",
    "    plt.ylabel('Frequency [Hz]', fontsize=14)\n",
    "    plt.xlabel('Time [sec]', fontsize=14)\n",
    "    plt.show()\n",
    "    plt.figure(2).clear()\n",
    "    gc.collect(1)\n",
    "    \n",
    "    #plt.figure(2, figsize=(6.7,5))\n",
    "    #plt.plot(t, s_filt_t, label='s_filt')\n",
    "    #plt.title(\"S whitened and filtered data\", fontsize=18)\n",
    "    #plt.ylabel(\"Strain (unitless)\", fontsize=13)\n",
    "    #plt.xlabel(\"time (seconds)\", fontsize=13)\n",
    "    #plt.show()\n",
    "    #plt.figure(2).clear()\n",
    "    #gc.collect()"
   ]
  },
  {
   "cell_type": "markdown",
   "id": "7ac863d4-a8ac-4cbf-8e36-f7b16718df9a",
   "metadata": {},
   "source": [
    "## 9. General sanity checks"
   ]
  },
  {
   "cell_type": "markdown",
   "id": "7f803cf4-e598-4cb8-b688-b0d3e7b61b12",
   "metadata": {},
   "source": [
    "### 9.1. Strain data: Raw, White, Whit+Filt"
   ]
  },
  {
   "cell_type": "code",
   "execution_count": 16,
   "id": "e486aef9-6c74-45c4-bd3e-cd55ee87a589",
   "metadata": {},
   "outputs": [
    {
     "data": {
      "image/png": "[encoded data removed]",
      "text/plain": [
       "<Figure size 576x360 with 1 Axes>"
      ]
     },
     "metadata": {
      "needs_background": "light"
     },
     "output_type": "display_data"
    },
    {
     "data": {
      "text/plain": [
       "<Figure size 432x288 with 0 Axes>"
      ]
     },
     "metadata": {},
     "output_type": "display_data"
    },
    {
     "data": {
      "image/png": "[encoded data removed]",
      "text/plain": [
       "<Figure size 576x360 with 1 Axes>"
      ]
     },
     "metadata": {
      "needs_background": "light"
     },
     "output_type": "display_data"
    },
    {
     "data": {
      "text/plain": [
       "<Figure size 432x288 with 0 Axes>"
      ]
     },
     "metadata": {},
     "output_type": "display_data"
    },
    {
     "data": {
      "image/png": "[encoded data removed]",
      "text/plain": [
       "<Figure size 576x360 with 1 Axes>"
      ]
     },
     "metadata": {
      "needs_background": "light"
     },
     "output_type": "display_data"
    },
    {
     "data": {
      "text/plain": [
       "<Figure size 432x288 with 0 Axes>"
      ]
     },
     "metadata": {},
     "output_type": "display_data"
    }
   ],
   "source": [
    "doplot_strains = 1\n",
    "\n",
    "# ------> Check: Plot raw/whitened/filtered strain data\n",
    "\n",
    "if doplot_strains:\n",
    "    \n",
    "        \n",
    "    t_min = np.min(t); t_max = np.max(t)\n",
    "    \n",
    "    plt.figure(1, figsize=(8,5))\n",
    "    plt.plot(t, s_raw)\n",
    "    plt.title(\"S raw strain data\", fontsize=18)\n",
    "    plt.ylabel(\"Strain (unitless)\", fontsize=13)\n",
    "    plt.xlabel(\"time (seconds)\", fontsize=13)\n",
    "    plt.xlim(left=t_min, right=t_max)\n",
    "    plt.show()\n",
    "    plt.figure(1).clear()\n",
    "    gc.collect()\n",
    "\n",
    "    plt.figure(2, figsize=(8,5))\n",
    "    plt.plot(t_white, s_white_t)\n",
    "    plt.title(\"S whitened strain data\", fontsize=18)\n",
    "    plt.ylabel(\"Strain (unitless)\", fontsize=13)\n",
    "    plt.xlabel(\"time (seconds)\", fontsize=13)\n",
    "    plt.xlim(left=t_min, right=t_max)\n",
    "    plt.show()\n",
    "    plt.figure(2).clear()\n",
    "    gc.collect()\n",
    "\n",
    "    plt.figure(3, figsize=(8,5))\n",
    "    plt.plot(t_filt, s_filt_t)\n",
    "    plt.title(\"S whitened + filtered strain data\", fontsize=18)\n",
    "    plt.ylabel(\"Strain (unitless)\", fontsize=13)\n",
    "    plt.xlabel(\"time (seconds)\", fontsize=13)\n",
    "    plt.xlim(left=t_min, right=t_max)\n",
    "    plt.show()\n",
    "    plt.figure(3).clear()\n",
    "    gc.collect()"
   ]
  },
  {
   "cell_type": "markdown",
   "id": "7d5796ff-b485-47af-b1e3-cfeb5f06a46b",
   "metadata": {},
   "source": [
    "### 9.1. Spectrogram: White+Filt"
   ]
  },
  {
   "cell_type": "code",
   "execution_count": 17,
   "id": "66e174a9-f6dc-45ce-8225-cf9f59f802a6",
   "metadata": {},
   "outputs": [],
   "source": [
    "# ------> Check: Plot spectrogram\n",
    "\n",
    "# Remark: This visual check is useful for a noise segment with\n",
    "#         a few injections (2, 3,.., no more 5)\n",
    "\n",
    "doplot_spectrogram = 0\n",
    "\n",
    "wnd=\"hamming\" # Window for spectrograms\n",
    "\n",
    "if doplot_spectrogram:\n",
    "    \n",
    "    plt.figure(1, figsize=(6.7,5))\n",
    "    plt.plot(t_filt, s_filt_t, label='s_raw')\n",
    "\n",
    "    plt.title(\"S whitened + filtered strain data\", fontsize=18)\n",
    "    plt.ylabel(\"Strain (unitless)\", fontsize=13)\n",
    "    plt.xlabel(\"time (seconds)\", fontsize=13)\n",
    "    plt.show()\n",
    "    plt.figure(1).clear()\n",
    "    gc.collect()\n",
    "    \n",
    "    freq, time, Sxx = signal.spectrogram(s_filt_t, fs, window=wnd, nperseg=512)\n",
    "    \n",
    "    plt.figure(2,figsize=(6.5,5))\n",
    "    plt.pcolormesh(time+t_filt[0], freq, Sxx, shading='gouraud')\n",
    "    plt.ylabel('Frequency [Hz]', fontsize=14)\n",
    "    plt.xlabel('Time [sec]', fontsize=14)\n",
    "    plt.show()\n",
    "    plt.figure(2).clear()\n",
    "    gc.collect()"
   ]
  },
  {
   "cell_type": "markdown",
   "id": "a1cb00f3-460e-41f0-a7ab-67da2d4e82b1",
   "metadata": {},
   "source": [
    "### 9.2. Amplitude Spectral Density (ASD)"
   ]
  },
  {
   "cell_type": "code",
   "execution_count": 18,
   "id": "d4ac9526-911c-4eef-97dd-2c8a02bd59d6",
   "metadata": {},
   "outputs": [],
   "source": [
    "# ------> Compute ASD quantities\n",
    "\n",
    "# Raw strain data ASD\n",
    "# ---------------------\n",
    "\n",
    "asd_raw = np.sqrt(psd_raw)\n",
    "\n",
    "# Whitened strain data ASD\n",
    "# --------------------------\n",
    "\n",
    "asd_white = np.sqrt(psd_white)\n",
    "\n",
    "# Filtered strain data ASD\n",
    "# --------------------------\n",
    "\n",
    "asd_filt = np.sqrt(psd_filt)\n"
   ]
  },
  {
   "cell_type": "code",
   "execution_count": 19,
   "id": "24f41971-475b-4f54-b8f3-c92f5d639cba",
   "metadata": {},
   "outputs": [
    {
     "data": {
      "image/png": "[encoded data removed]",
      "text/plain": [
       "<Figure size 558x360 with 1 Axes>"
      ]
     },
     "metadata": {
      "needs_background": "light"
     },
     "output_type": "display_data"
    },
    {
     "data": {
      "text/plain": [
       "12602"
      ]
     },
     "execution_count": 19,
     "metadata": {},
     "output_type": "execute_result"
    },
    {
     "data": {
      "text/plain": [
       "<Figure size 432x288 with 0 Axes>"
      ]
     },
     "metadata": {},
     "output_type": "display_data"
    }
   ],
   "source": [
    "# Plot ADS for raw/whitened/filtered strain data\n",
    "\n",
    "#mpl.rcParams['agg.path.chunksize'] = 10000\n",
    "\n",
    "plt.figure(figsize=(7.75,5))\n",
    "plt.plot(fpsd_raw, asd_raw, label='ASD raw')\n",
    "plt.plot(fpsd_white, asd_white, label='ASD white')\n",
    "plt.plot(fpsd_filt, asd_filt, label='ASD white+filter')\n",
    "#plt.xlim(left=9)\n",
    "plt.xscale('log')\n",
    "plt.yscale('log')\n",
    "plt.title(\"ASD\", fontsize=18)\n",
    "plt.ylabel(\"Amplitude Spectral Density\", fontsize=13)\n",
    "plt.xlabel(\"frequency\", fontsize=13)\n",
    "plt.legend()\n",
    "plt.show()\n",
    "plt.figure().clear()\n",
    "gc.collect()"
   ]
  },
  {
   "cell_type": "markdown",
   "id": "9a34ca8f-23b9-47dd-a018-a1a47a671370",
   "metadata": {},
   "source": [
    "## 10. Save data"
   ]
  },
  {
   "cell_type": "code",
   "execution_count": 20,
   "id": "657dc143-5f8c-4a1b-9c27-cbc427418a72",
   "metadata": {},
   "outputs": [],
   "source": [
    "# ------> Extract gps time and waveform duration from read filename\n",
    "\n",
    "r = re.search(\"_inj\", s_files[file_i])\n",
    "i_end = r.span()[0]\n",
    "r = re.search(detector + \"_\", s_files[file_i])\n",
    "i_ini = r.span()[0]\n",
    "\n",
    "gps = s_files[file_i][i_ini+3:i_end]\n",
    "\n",
    "# ------> Extract waveform class from read file\n",
    "\n",
    "waveform_class = s_files[file_i][-5:-4]\n",
    "\n",
    "# ------> Save conditioned strain data\n",
    "\n",
    "# Pre-processed data folder\n",
    "save_dir = '/home/manuel/Research Projects/GW Data analysis/GitHub/CCSNeHFGW_ResNetClass/Codes/Preprocessed_Data/'\n",
    "\n",
    "# Create df_strain dataset\n",
    "df_strain = pd.DataFrame({\"time\" : t_filt, \"strain\" : s_filt_t})\n",
    "\n",
    "# Export df_strain dataframe to a csv file\n",
    "df_strain.to_csv(\"strain_\" + detector + \"_\" + gps + \"_conditioned_\" + \"wfclass\" + waveform_class + \".txt\", index=False)"
   ]
  },
  {
   "cell_type": "code",
   "execution_count": null,
   "id": "84186185-6c98-48f7-81d3-4154b874d137",
   "metadata": {},
   "outputs": [],
   "source": []
  }
 ],
 "metadata": {
  "kernelspec": {
   "display_name": "Python 3 (ipykernel)",
   "language": "python",
   "name": "python3"
  },
  "language_info": {
   "codemirror_mode": {
    "name": "ipython",
    "version": 3
   },
   "file_extension": ".py",
   "mimetype": "text/x-python",
   "name": "python",
   "nbconvert_exporter": "python",
   "pygments_lexer": "ipython3",
   "version": "3.9.7"
  }
 },
 "nbformat": 4,
 "nbformat_minor": 5
}
